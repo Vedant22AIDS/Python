{
 "cells": [
  {
   "cell_type": "code",
   "execution_count": 1,
   "id": "721b6d64-ad73-4e83-b0f8-af45cd25f4ba",
   "metadata": {},
   "outputs": [],
   "source": [
    "#String Problems"
   ]
  },
  {
   "cell_type": "code",
   "execution_count": 2,
   "id": "d75aebe3-2ad8-4c2b-9a7a-313b2609acc8",
   "metadata": {},
   "outputs": [
    {
     "name": "stdout",
     "output_type": "stream",
     "text": [
      "olleH\n"
     ]
    }
   ],
   "source": [
    "#Que1\n",
    "str=\"Hello\"\n",
    "print(str[::-1])"
   ]
  },
  {
   "cell_type": "code",
   "execution_count": 4,
   "id": "07d0c14d-2cbb-418a-9eff-0e131612be32",
   "metadata": {},
   "outputs": [
    {
     "name": "stdout",
     "output_type": "stream",
     "text": [
      "String is not Palindrome\n"
     ]
    }
   ],
   "source": [
    "#Que2\n",
    "if(str==str[::-1]):\n",
    "    print(\"String is Palindrome\")\n",
    "else:\n",
    "    print(\"String is not Palindrome\")"
   ]
  },
  {
   "cell_type": "code",
   "execution_count": 5,
   "id": "70755b7d-f926-4c80-81d0-948ae7f4a8ab",
   "metadata": {},
   "outputs": [
    {
     "name": "stdout",
     "output_type": "stream",
     "text": [
      "HELLO\n",
      "hello\n"
     ]
    }
   ],
   "source": [
    "#Que3\n",
    "print(str.upper())\n",
    "\n",
    "#Que4\n",
    "print(str.lower())"
   ]
  },
  {
   "cell_type": "code",
   "execution_count": 6,
   "id": "9ac679f5-28ac-4ef9-81fa-0885c6a5d82a",
   "metadata": {},
   "outputs": [
    {
     "name": "stdout",
     "output_type": "stream",
     "text": [
      "Number of Vowels in string is 2\n",
      "Number of consonants in string is 3\n",
      "Hellobhaikeseho\n"
     ]
    }
   ],
   "source": [
    "#Que5\n",
    "count=0\n",
    "vowels=['a','e','i','o','u']\n",
    "\n",
    "for i in str:\n",
    "    if i in vowels:\n",
    "      count=count+1\n",
    "\n",
    "print(f\"Number of Vowels in string is {count}\")\n",
    "\n",
    "#Que6\n",
    "cnt=0\n",
    "for i in str:\n",
    "    if i not in vowels:\n",
    "      cnt=cnt+1\n",
    "print(f\"Number of consonants in string is {cnt}\")\n",
    "\n",
    "\n",
    "#Que7\n",
    "str1=\"Hello bhai kese ho\"\n",
    "print(\"\".join(str1.split(\" \")))#join the string without empty spaces"
   ]
  },
  {
   "cell_type": "code",
   "execution_count": 7,
   "id": "aa9250fc-d8b3-4ad3-9d1a-cdb21b87e809",
   "metadata": {},
   "outputs": [
    {
     "name": "stdout",
     "output_type": "stream",
     "text": [
      "Length of string is 18\n",
      "True\n",
      "Hello behen kese ho\n"
     ]
    }
   ],
   "source": [
    "#Que8\n",
    "length=0\n",
    "for char in str1:\n",
    "    length=length+1\n",
    "print(f\"Length of string is {length}\")\n",
    "\n",
    "#Que9\n",
    "word=\"bhai\"\n",
    "if word in str1:\n",
    "    print(True)\n",
    "else:\n",
    "    print(False)\n",
    "\n",
    "#Que10\n",
    "print(str1.replace(\"bhai\",\"behen\"))"
   ]
  },
  {
   "cell_type": "code",
   "execution_count": 8,
   "id": "69e13370-40ad-40ab-824e-4f399deaeb93",
   "metadata": {},
   "outputs": [
    {
     "name": "stdout",
     "output_type": "stream",
     "text": [
      "['India', 'is', 'Best']\n",
      "India has occur 1 times\n",
      "0\n",
      "9\n",
      "['India', 'is', 'Best']\n",
      "This is list of words\n"
     ]
    }
   ],
   "source": [
    "#Que11\n",
    "str2=\"India is Best\"\n",
    "word=\"India\"\n",
    "words=str2.split(\" \") #split the string into list of substring\n",
    "print(words)\n",
    "cnt=0\n",
    "for w in words:\n",
    "\n",
    "    if w==word:\n",
    "         cnt=cnt+1\n",
    "print(f\"{word} has occur {cnt} times\")\n",
    "\n",
    "#Que12\n",
    "'''\n",
    "The enumerate() function in Python is a built-in function that allows you \n",
    "to loop over an iterable while keeping track of the index and value of each item during iteration.\n",
    "'''\n",
    "str3=\"Hello Hi Hello\"\n",
    "w=\"Hello\"\n",
    "print(str3.find(w))\n",
    "\n",
    "#Que13\n",
    "print(str3.rfind(w))\n",
    "\n",
    "#Que14\n",
    "print(str2.split(\" \"))\n",
    "\n",
    "#Que15\n",
    "li=['This','is','list','of','words']\n",
    "print(\" \".join(li))\n"
   ]
  },
  {
   "cell_type": "code",
   "execution_count": 9,
   "id": "464ecdb7-cb7c-4cdc-acbb-6baaa6571850",
   "metadata": {},
   "outputs": [
    {
     "name": "stdout",
     "output_type": "stream",
     "text": [
      "India_is_Best\n",
      "True\n",
      "False\n",
      "Hello World\n",
      "['I', 'am', 'optimus', 'prime']\n",
      "optimus\n"
     ]
    }
   ],
   "source": [
    "#Que16\n",
    "print(\"_\".join(str2.split(\" \")))\n",
    "\n",
    "#Que17\n",
    "if str2.startswith(\"India\"):\n",
    "    print(True)\n",
    "else:\n",
    "    print(False)\n",
    "\n",
    "#Que18\n",
    "if str2.endswith(\"India\"):\n",
    "\n",
    "    print(True)\n",
    "else:\n",
    "    print(False)\n",
    "\n",
    "#Que19\n",
    "str4=\"hello world\"\n",
    "print(str4.title())\n",
    "\n",
    "#Que20\n",
    "str5=\"I am optimus prime\"\n",
    "text=str5.split(\" \")\n",
    "print(text)\n",
    "#Key len find find longest word amongst all the words\n",
    "print(max(text,key=len))\n"
   ]
  },
  {
   "cell_type": "code",
   "execution_count": 10,
   "id": "8977b427-e143-49f2-b180-825ded1dc7c3",
   "metadata": {},
   "outputs": [
    {
     "name": "stdout",
     "output_type": "stream",
     "text": [
      "I\n",
      "['I', 'am', 'optimus', 'prime']\n",
      "prime optimus am I\n",
      "True\n",
      "22\n",
      "Vedant\n"
     ]
    }
   ],
   "source": [
    "#Que21\n",
    "print(min(text,key=len))\n",
    "\n",
    "#Que22\n",
    "text=str5.split(\" \")\n",
    "print(text)\n",
    "print(' '.join(reversed(text)))\n",
    "\n",
    "#Que23\n",
    "str6=\"Vedant22\"\n",
    "print(str6.isalnum())\n",
    "\n",
    "#Que24\n",
    "print( ''.join(char for char in str6 if char.isdigit()))\n",
    "\n",
    "#Que25\n",
    "print(''.join(char for char in str6 if char.isalpha()))\n"
   ]
  },
  {
   "cell_type": "code",
   "execution_count": 11,
   "id": "c3c62ded-6692-42ed-b808-c581a2871d49",
   "metadata": {},
   "outputs": [
    {
     "name": "stdout",
     "output_type": "stream",
     "text": [
      "Total number of Uppercase letters in Vedant22 : 1\n",
      "Total number of Uppercase letters in Vedant22 : 5\n",
      "vEDANT22\n",
      "India  Best\n",
      "vedantunawane123@gmail.com is Valid email address\n"
     ]
    }
   ],
   "source": [
    "#Que26\n",
    "count_upper=0\n",
    "for char in str6:\n",
    "    if char.isupper():\n",
    "        count_upper=count_upper+1\n",
    "print(f\"Total number of Uppercase letters in {str6} : {count_upper}\")\n",
    "\n",
    "#Que27\n",
    "count_lower=0\n",
    "for char in str6:\n",
    "    if char.islower():\n",
    "        count_lower=count_lower+1\n",
    "print(f\"Total number of Uppercase letters in {str6} : {count_lower}\")\n",
    "\n",
    "#Que28\n",
    "for char in str6:\n",
    "    if char.isupper():\n",
    "        print(char.lower(),end=\"\")\n",
    "    else:\n",
    "        print(char.upper(),end=\"\")\n",
    "print()\n",
    "\n",
    "#Que29\n",
    "word_to_remove=\"is\"\n",
    "print(str2.replace(word_to_remove,\"\"))\n",
    "\n",
    "#Que30\n",
    "email=\"vedantunawane123@gmail.com\"\n",
    "atindex=email.index('@')\n",
    "dotindex=email.index('.')\n",
    "flag=True\n",
    "if atindex >= dotindex:\n",
    "    flag=False\n",
    "\n",
    "if email.count('@') > 1 or email.count('.') > 2:\n",
    "    flag=False\n",
    "if flag:\n",
    "    print(f\"{email} is Valid email address\")\n",
    "else:\n",
    "    print(f\"{email} is not Valid email address\")\n",
    "\n"
   ]
  },
  {
   "cell_type": "code",
   "execution_count": 12,
   "id": "75cd862b-2f8d-4fe0-8d31-1810ff21c597",
   "metadata": {},
   "outputs": [
    {
     "name": "stdout",
     "output_type": "stream",
     "text": [
      "vedantunawane123\n",
      "gmail.com\n",
      "This is a sentence with multiple spaces.\n",
      "'https://www.example.com' is a valid URL.\n",
      "Protocol extracted from URL: https\n"
     ]
    }
   ],
   "source": [
    "#Que31\n",
    "print(email.split('@')[0])\n",
    "\n",
    "#Que32\n",
    "print(email.split('@')[1])\n",
    "\n",
    "#Que33\n",
    "sentence = \"This     is    a    sentence    with    multiple     spaces.\"\n",
    "print(' '.join(sentence.split()))\n",
    "\n",
    "#Que34\n",
    "from urllib.parse import urlparse\n",
    "\n",
    "def is_valid_url(url):\n",
    "    try:\n",
    "        result = urlparse(url)\n",
    "        return all([result.scheme, result.netloc])\n",
    "    except ValueError:\n",
    "        return False\n",
    "\n",
    "# Example usage:\n",
    "url_to_check = \"https://www.example.com\"\n",
    "if is_valid_url(url_to_check):\n",
    "    print(f\"'{url_to_check}' is a valid URL.\")\n",
    "else:\n",
    "    print(f\"'{url_to_check}' is not a valid URL.\")\n",
    "\n",
    "\n",
    "#Que35\n",
    "def extract_protocol(url):\n",
    "    parts = url.split(\"://\")\n",
    "    if len(parts) >= 2:\n",
    "        return parts[0]\n",
    "    else:\n",
    "        return \"No protocol found\"\n",
    "\n",
    "# Example usage:\n",
    "url_to_check = \"https://www.example.com\"\n",
    "protocol = extract_protocol(url_to_check)\n",
    "print(\"Protocol extracted from URL:\", protocol)\n"
   ]
  },
  {
   "cell_type": "code",
   "execution_count": 13,
   "id": "436c885e-4664-4d5e-8d58-0f89307c4585",
   "metadata": {},
   "outputs": [
    {
     "name": "stdout",
     "output_type": "stream",
     "text": [
      "{'m', 'f', 'q', 'r', 'o', 'a', 'H', 'e', 'x', 'y', 's', 'n', 'l', 'i', 'h', ' ', 't', 'c', 'p', 'u'}\n",
      "Original string: Hello! This, is a string. With? Punctuation!\n",
      "After removing punctuation: Hello This is a string With Punctuation\n",
      "False\n",
      "False\n",
      "['T', 'h', 'i', 's', ' ', 'i', 's', ' ', 's', 't', 'r', 'i', 'n', 'g', ' ', 'w', 'i', 't', 'h', ' ', 'o', 'n', 'l', 'y', ' ', 'a', 'l', 'p', 'h', 'a', 'b', 'e', 't', 's']\n"
     ]
    }
   ],
   "source": [
    "\n",
    "#Que36\n",
    "input_string=\"Hello this is example to count frequency of each characters\"\n",
    "s=set(input_string)\n",
    "print(s)\n",
    "for i in input_string:\n",
    "    if i in s:\n",
    "        pass\n",
    "\n",
    "#Que37\n",
    "import string\n",
    "\n",
    "def remove_punctuation(text):\n",
    "    return ''.join([char for char in text if char not in string.punctuation])\n",
    "\n",
    "# Example usage:\n",
    "input_string = \"Hello! This, is a string. With? Punctuation!\"\n",
    "result = remove_punctuation(input_string)\n",
    "print(\"Original string:\", input_string)\n",
    "print(\"After removing punctuation:\", result)\n",
    "\n",
    "#QUe38\n",
    "digit=\"2v312\"\n",
    "if digit.isdigit():\n",
    "    print(True)\n",
    "else:\n",
    "    print(False)\n",
    "\n",
    "#Que39\n",
    "\n",
    "alpha=\"This is string with only alphabets\"\n",
    "if alpha.isalpha():\n",
    "    print(True)\n",
    "else:\n",
    "    print(False)\n",
    "\n",
    "#Que40\n",
    "li=[x for x in alpha]\n",
    "print(li)\n"
   ]
  },
  {
   "cell_type": "code",
   "execution_count": 14,
   "id": "0e039341-a139-48cf-8310-93f4970cfb3b",
   "metadata": {},
   "outputs": [
    {
     "name": "stdout",
     "output_type": "stream",
     "text": [
      "Strings are anagrams\n",
      "Original message: Hello, world!\n",
      "Encrypted message: Mjqqt, btwqi!\n",
      "Encoded message: Mjqqt, btwqi!\n",
      "Decoded message: Hello, world!\n",
      "The most frequent word is: 'text'\n",
      "Unique words in the text:\n",
      "['a', 'may', 'is', 'which', 'sample', 'this', 'text', 'repeat', 'some', 'of', 'contains', 'words', 'several']\n"
     ]
    }
   ],
   "source": [
    "#QUe41\n",
    "string_1=\"listen\"\n",
    "string_2=\"silent\"\n",
    "\n",
    "if(sorted(string_1)==sorted(string_2)):\n",
    "    print(\"Strings are anagrams\")\n",
    "else:\n",
    "    print(\"String are not anagrams\")\n",
    "\n",
    "#Que42\n",
    "def caesar_cipher(text, shift):\n",
    "    encrypted_text = \"\"\n",
    "    for char in text:\n",
    "        # For letters\n",
    "        if char.isalpha():\n",
    "            shifted = ord(char) + shift\n",
    "            if char.islower():\n",
    "                if shifted > ord('z'):\n",
    "                    shifted -= 26\n",
    "                elif shifted < ord('a'):\n",
    "                    shifted += 26\n",
    "            elif char.isupper():\n",
    "                if shifted > ord('Z'):\n",
    "                    shifted -= 26\n",
    "                elif shifted < ord('A'):\n",
    "                    shifted += 26\n",
    "            encrypted_text += chr(shifted)\n",
    "        else:\n",
    "            # For non-alphabetic characters\n",
    "            encrypted_text += char\n",
    "    return encrypted_text\n",
    "\n",
    "# Example usage:\n",
    "message = \"Hello, world!\"\n",
    "shift_amount = 5\n",
    "\n",
    "encrypted_message = caesar_cipher(message, shift_amount)\n",
    "print(f\"Original message: {message}\")\n",
    "print(f\"Encrypted message: {encrypted_message}\")\n",
    "\n",
    "\n",
    "#Que43\n",
    "# Encoded message and shift amount\n",
    "encoded_message = \"Mjqqt, btwqi!\"\n",
    "shift_amount = 5\n",
    "\n",
    "decoded_message = \"\"\n",
    "for char in encoded_message:\n",
    "    # For letters\n",
    "    if char.isalpha():\n",
    "        shifted = ord(char) - shift_amount\n",
    "        if char.islower():\n",
    "            if shifted < ord('a'):\n",
    "                shifted += 26\n",
    "        elif char.isupper():\n",
    "            if shifted < ord('A'):\n",
    "                shifted += 26\n",
    "        decoded_message += chr(shifted)\n",
    "    else:\n",
    "        # For non-alphabetic characters\n",
    "        decoded_message += char\n",
    "\n",
    "print(f\"Encoded message: {encoded_message}\")\n",
    "print(f\"Decoded message: {decoded_message}\")\n",
    "\n",
    "#Que44\n",
    "from collections import Counter\n",
    "import re\n",
    "\n",
    "\n",
    "def most_frequent_word(text):\n",
    "    # Split the text into words using regex\n",
    "    words = re.findall(r'\\b\\w+\\b', text.lower())\n",
    "\n",
    "    # Count occurrences of each word\n",
    "    word_counts = Counter(words)\n",
    "\n",
    "    # Find the most common word\n",
    "    most_common_word = word_counts.most_common(1)\n",
    "\n",
    "    return most_common_word[0][0] if most_common_word else None\n",
    "\n",
    "\n",
    "# Example usage:\n",
    "input_text = \"This is a sample text. This text contains several words, some of which may repeat. Sample text.\"\n",
    "result = most_frequent_word(input_text)\n",
    "\n",
    "if result:\n",
    "    print(f\"The most frequent word is: '{result}'\")\n",
    "else:\n",
    "    print(\"No words found in the input text.\")\n",
    "\n",
    "#Que45\n",
    "import re\n",
    "def unique_words(text):\n",
    "    words = re.findall(r'\\b\\w+\\b', text.lower())\n",
    "\n",
    "    unique_word_set = set(words)\n",
    "    return list(unique_word_set)\n",
    "input_text = \"This is a sample text. This text contains several words, some of which may repeat. Sample text.\"\n",
    "unique_words_list = unique_words(input_text)\n",
    "\n",
    "if unique_words_list:\n",
    "    print(\"Unique words in the text:\")\n",
    "    print(unique_words_list)\n",
    "else:\n",
    "    print(\"No words found in the input text.\")\n"
   ]
  },
  {
   "cell_type": "code",
   "execution_count": 15,
   "id": "2b4d0899-2f6d-45c1-a4d6-e1567e9df515",
   "metadata": {},
   "outputs": [
    {
     "name": "stdout",
     "output_type": "stream",
     "text": [
      "The word 'syllables' has 2 syllable(s).\n",
      "The string contains special characters.\n",
      "Vedant22\n",
      "Vedant@@22\n",
      "[['John', 'Doe', '30'], ['Jane', 'Smith', '25'], ['Tom', 'Johnson', '35']]\n"
     ]
    }
   ],
   "source": [
    "\n",
    "#Que46\n",
    "def count_syllables(word):\n",
    "    vowels = 'aeiouAEIOU'\n",
    "    count = 0\n",
    "    previous_was_vowel = False\n",
    "\n",
    "    for char in word:\n",
    "        if char in vowels:\n",
    "            if not previous_was_vowel:\n",
    "                count += 1\n",
    "            previous_was_vowel = True\n",
    "        else:\n",
    "            previous_was_vowel = False\n",
    "\n",
    "    if word.endswith(('e', 'es', 'ed')) and not word.endswith(('le', 'es')):\n",
    "        count -= 1\n",
    "\n",
    "    if word.endswith('a') and count > 1 and not word.endswith('ia'):\n",
    "        count -= 1\n",
    "\n",
    "    return count if count > 0 else 1  # Minimum count is 1\n",
    "word = \"syllables\"\n",
    "syllable_count = count_syllables(word)\n",
    "print(f\"The word '{word}' has {syllable_count} syllable(s).\")\n",
    "\n",
    "#Que47\n",
    "import re\n",
    "\n",
    "\n",
    "def contains_special_characters(input_string):\n",
    "    # Define a regular expression pattern for non-alphanumeric characters\n",
    "    pattern = r'[^a-zA-Z0-9\\s]'  # This pattern includes spaces as non-special\n",
    "\n",
    "    # Search for the pattern in the input string\n",
    "    match = re.search(pattern, input_string)\n",
    "\n",
    "    # If match is found, return True (contains special characters), otherwise False\n",
    "    return bool(match)\n",
    "\n",
    "\n",
    "# Example usage:\n",
    "test_string = \"This is a test string with special characters: !@#$\"\n",
    "if contains_special_characters(test_string):\n",
    "    print(\"The string contains special characters.\")\n",
    "else:\n",
    "    print(\"The string does not contain special characters.\")\n",
    "\n",
    "#Que48\n",
    "str=\"Vedant@22\"\n",
    "n=\"@\"\n",
    "print(str.replace(n,\"\"))\n",
    "\n",
    "#Que49\n",
    "pos=6\n",
    "word=\"@\"\n",
    "print(str[0:pos]+word+str[pos:])\n",
    "\n",
    "#Que50\n",
    "import csv\n",
    "from io import StringIO\n",
    "\n",
    "def csv_string_to_list(csv_string):\n",
    "    # Using StringIO to simulate a file object from the CSV string\n",
    "    csv_file = StringIO(csv_string)\n",
    "\n",
    "    # Initialize a CSV reader object\n",
    "    csv_reader = csv.reader(csv_file)\n",
    "\n",
    "    # Convert CSV reader object to a list of lists\n",
    "    list_of_lists = [row for row in csv_reader]\n",
    "\n",
    "    return list_of_lists\n",
    "\n",
    "# Example CSV string\n",
    "csv_string = \"John,Doe,30\\nJane,Smith,25\\nTom,Johnson,35\"\n",
    "\n",
    "# Convert CSV string to a list of lists\n",
    "result = csv_string_to_list(csv_string)\n",
    "print(result)\n"
   ]
  },
  {
   "cell_type": "code",
   "execution_count": 16,
   "id": "e5705daa-4c66-45ad-9e16-05aa789a03ed",
   "metadata": {},
   "outputs": [],
   "source": [
    "#List Problems"
   ]
  },
  {
   "cell_type": "code",
   "execution_count": 17,
   "id": "ae56d5bd-b81f-4286-8550-5832fa8ed579",
   "metadata": {},
   "outputs": [
    {
     "name": "stdout",
     "output_type": "stream",
     "text": [
      "[1, 2, 3, 4, 5, 6, 7, 8, 9, 10]\n",
      "Length of list is 10\n",
      "[1, 2, 3, 4, 5, 6, 7, 8, 9, 10, 11]\n",
      "[1, 2, 100, 3, 4, 5, 6, 7, 8, 9, 10, 11]\n",
      "[1, 2, 3, 4, 5, 6, 7, 8, 9, 10, 11]\n"
     ]
    }
   ],
   "source": [
    "#Que1\n",
    "li=[x for x in range(1,11)]\n",
    "print(li)\n",
    "\n",
    "#Que2\n",
    "count=0\n",
    "for i in range(0,len(li)):\n",
    "    count=count+1\n",
    "print(f\"Length of list is {count}\")\n",
    "\n",
    "#Que3\n",
    "li.append(11)\n",
    "print(li)\n",
    "\n",
    "#Que4\n",
    "index=2\n",
    "ele=100\n",
    "li.insert(index,ele)\n",
    "print(li)\n",
    "\n",
    "#Que5\n",
    "li.remove(100)\n",
    "print(li)\n"
   ]
  },
  {
   "cell_type": "code",
   "execution_count": 18,
   "id": "05b39adf-9951-4a99-bfee-d3c0b9f2b3a5",
   "metadata": {},
   "outputs": [
    {
     "name": "stdout",
     "output_type": "stream",
     "text": [
      "1\n",
      "don't exist\n",
      "3\n",
      "Occurrence of 1 in [1, 2, 3, 1, 5, 6, 7, 1] in 3\n",
      "[1, 7, 6, 5, 1, 3, 2, 1]\n"
     ]
    }
   ],
   "source": [
    "#Que6\n",
    "print(li.pop(0))\n",
    "\n",
    "#Que7\n",
    "ele=1\n",
    "[print(\"exist\") if ele in li else print(\"don't exist\")]\n",
    "\n",
    "#Que8\n",
    "print(li.index(5))\n",
    "\n",
    "#Que9\n",
    "li=[1,2,3,1,5,6,7,1]\n",
    "cnt=0\n",
    "ele=1\n",
    "for i in li:\n",
    "    if i == ele:\n",
    "        cnt=cnt+1\n",
    "print(f\"Occurrence of {ele} in {li} in {cnt}\")\n",
    "\n",
    "#Que10\n",
    "print(li[::-1])\n"
   ]
  },
  {
   "cell_type": "code",
   "execution_count": 19,
   "id": "22410d40-e12a-4643-92c9-b53c41306b30",
   "metadata": {},
   "outputs": [
    {
     "name": "stdout",
     "output_type": "stream",
     "text": [
      "[1, 21, 24, 56, 77, 81]\n",
      "[81, 77, 56, 24, 21, 1]\n",
      "[2, 4, 6, 8, 10, 12, 14, 16, 18]\n",
      "[1, 3, 5, 7, 9, 11, 13, 15, 17, 19]\n",
      "90\n"
     ]
    }
   ],
   "source": [
    "#Que11\n",
    "li=[1,24,56,21,77,81]\n",
    "li.sort()\n",
    "print(li)\n",
    "\n",
    "#Que12\n",
    "li.sort(reverse=1)\n",
    "print(li)\n",
    "\n",
    "#Que13\n",
    "even=[x for x in range(1,20) if x%2==0]\n",
    "print(even)\n",
    "\n",
    "#Que14\n",
    "odd=[x for x in range(1,20) if x%2!=0]\n",
    "print(odd)\n",
    "\n",
    "#Que15\n",
    "print(sum(even))\n"
   ]
  },
  {
   "cell_type": "code",
   "execution_count": 20,
   "id": "69f31bf9-3bde-4d07-be35-6c6aa18cdf2c",
   "metadata": {},
   "outputs": [
    {
     "name": "stdout",
     "output_type": "stream",
     "text": [
      "18\n",
      "2\n",
      "[1, 4, 9, 16, 25, 36, 49, 64, 81, 100]\n",
      "[93, 12, 61, 51, 88, 40, 79, 33, 28, 37]\n",
      "[1, 2, 3, 4, 7, 8]\n"
     ]
    }
   ],
   "source": [
    "#Que16\n",
    "print(max(even))\n",
    "#Que17\n",
    "print(min(even))\n",
    "\n",
    "#Que18\n",
    "sq=[x*x for x in range(1,11)]\n",
    "print(sq)\n",
    "\n",
    "#Quue19\n",
    "import random as r\n",
    "random_list=[r.randint(1,100) for x in range(10)]\n",
    "print(random_list)\n",
    "\n",
    "#Que20\n",
    "duplicate=[1,2,1,3,4,1,7,7,8,3]\n",
    "print(list(set(duplicate)))\n"
   ]
  },
  {
   "cell_type": "code",
   "execution_count": 21,
   "id": "dfdd5f0c-9a68-4f80-a6fa-4a1ebaa9c333",
   "metadata": {},
   "outputs": [
    {
     "name": "stdout",
     "output_type": "stream",
     "text": [
      "[1, 2, 3]\n",
      "[4, 5]\n",
      "[1, 2, 3, 4, 5, 1, 2, 3]\n",
      "[1, 4, 9, 16, 25]\n",
      "[2, 4]\n"
     ]
    }
   ],
   "source": [
    "#Que21\n",
    "l1=[1,2,3,4,5]\n",
    "l2=[1,2,3]\n",
    "common=set()\n",
    "common=[x for x in l1 if x in l2]\n",
    "print(common)\n",
    "\n",
    "#Que22\n",
    "difference=list(set(l1)-set(l2))\n",
    "print(difference)\n",
    "\n",
    "#Que23\n",
    "print(l1+l2)\n",
    "\n",
    "#Que24\n",
    "multi_2=[x*x for x in l1]\n",
    "print(multi_2)\n",
    "\n",
    "#Que25\n",
    "even=[x for x in l1 if x%2==0]\n",
    "print(even)\n"
   ]
  },
  {
   "cell_type": "code",
   "execution_count": 26,
   "id": "975c3670-26ec-4694-a248-8fd458164ef9",
   "metadata": {},
   "outputs": [
    {
     "name": "stdout",
     "output_type": "stream",
     "text": [
      "[1, 2, 3, 4, 5]\n",
      "[1, 2, 3, 4, 5, 6, 7, 8, 9]\n",
      "Fibonacii : [0, 1, 1, 2, 3, 5, 8, 13, 21, 34, 55] \n",
      "True\n"
     ]
    }
   ],
   "source": [
    "#Que26\n",
    "li_of_str=['1','2','3','4','5']\n",
    "li_of_int=[int(x)for x in li_of_str]\n",
    "print(li_of_int)\n",
    "\n",
    "#Que27\n",
    "# int_list = [1, 2, 3, 4, 5]\n",
    "\n",
    "# str_list = [str(num) for num in int_list]\n",
    "# print(str_list)\n",
    "\n",
    "#Que28\n",
    "nested=[[1,2,3],[4,5,6],[7,8,9]]\n",
    "flattern=[y for x in nested for y in x]\n",
    "print(flattern)\n",
    "\n",
    "#Que29\n",
    "fibonacii=[0,1]\n",
    "for i in range(1,10):\n",
    "    next=fibonacii[-1]+fibonacii[-2]\n",
    "    fibonacii.append(next)\n",
    "print(\"Fibonacii :\",fibonacii,end=\" \")\n",
    "print()\n",
    "\n",
    "#Que30\n",
    "if sorted(li_of_int):\n",
    "    print(True)\n",
    "else:\n",
    "    print(False)\n"
   ]
  },
  {
   "cell_type": "code",
   "execution_count": 27,
   "id": "c6b0ef94-9f3b-41f7-a3fd-ed220d4fbabf",
   "metadata": {},
   "outputs": [
    {
     "name": "stdout",
     "output_type": "stream",
     "text": [
      "Original list: [1, 2, 3, 4, 5]\n",
      "List rotated to the left by 2 positions: [3, 4, 5, 1, 2]\n",
      "Original list: [1, 2, 3, 4, 5]\n",
      "List rotated to the right by 2 positions: [4, 5, 1, 2, 3]\n",
      "[2, 3, 5, 7, 11, 13, 17, 19, 23, 29, 31, 37, 41, 43, 47]\n",
      "List split into chunks of size 3: [[1, 2, 3], [4, 5, 6], [7, 8, 9]]\n",
      "second largest element in list is : 4\n"
     ]
    }
   ],
   "source": [
    "#Que31\n",
    "# Example list\n",
    "my_list = [1, 2, 3, 4, 5]\n",
    "\n",
    "# Number of positions to rotate left\n",
    "positions = 2\n",
    "\n",
    "print(\"Original list:\", my_list)\n",
    "\n",
    "# Rotate the list to the left by `positions` positions\n",
    "rotated_list = my_list[positions:] + my_list[:positions]\n",
    "\n",
    "print(f\"List rotated to the left by {positions} positions:\", rotated_list)\n",
    "\n",
    "#Que32\n",
    "# Example list\n",
    "my_list = [1, 2, 3, 4, 5]\n",
    "\n",
    "# Number of positions to rotate right\n",
    "positions = 2\n",
    "\n",
    "print(\"Original list:\", my_list)\n",
    "\n",
    "# Rotate the list to the right by `positions` positions\n",
    "rotated_list = my_list[-positions:] + my_list[:-positions]\n",
    "\n",
    "print(f\"List rotated to the right by {positions} positions:\", rotated_list)\n",
    "\n",
    "#Que33\n",
    "def sieve_of_eratosthenes(n):\n",
    "    primes = [True for _ in range(n+1)]\n",
    "    p = 2\n",
    "    while p * p <= n:\n",
    "        if primes[p]:\n",
    "            for i in range(p * p, n+1, p):\n",
    "                primes[i] = False\n",
    "        p += 1\n",
    "\n",
    "    prime_numbers = [p for p in range(2, n+1) if primes[p]]\n",
    "    return prime_numbers\n",
    "\n",
    "limit = 50\n",
    "prime_list_up_to_50 = sieve_of_eratosthenes(limit)\n",
    "print(prime_list_up_to_50)\n",
    "\n",
    "#Que34\n",
    "def split_list_into_chunks(lst, n):\n",
    "    chunks = []\n",
    "    for i in range(0, len(lst), n):\n",
    "        chunks.append(lst[i:i + n])\n",
    "    return chunks\n",
    "\n",
    "# Example list\n",
    "my_list = [1, 2, 3, 4, 5, 6, 7, 8, 9]\n",
    "\n",
    "# Size of each chunk\n",
    "chunk_size = 3\n",
    "\n",
    "result = split_list_into_chunks(my_list, chunk_size)\n",
    "print(f\"List split into chunks of size {chunk_size}:\", result)\n",
    "\n",
    "#Que35\n",
    "num=[1,2,3,4,5]\n",
    "largest=max(num)\n",
    "index=num.index(largest)\n",
    "num[index]=0\n",
    "print(\"second largest element in list is :\",max(num))\n"
   ]
  },
  {
   "cell_type": "code",
   "execution_count": 28,
   "id": "349329c1-4323-495d-9a59-53688a139b53",
   "metadata": {},
   "outputs": [
    {
     "name": "stdout",
     "output_type": "stream",
     "text": [
      "[1, 4, 9, 16, 0]\n",
      "{0: 'apple', 1: 'banana', 2: 'orange', 3: 'kiwi'}\n",
      "Original list: [1, 2, 3, 4, 5, 6, 7, 8, 9]\n",
      "Shuffled list: [5, 4, 9, 8, 3, 7, 1, 6, 2]\n",
      "factorial list : [1, 2, 6, 24, 120, 720, 5040, 40320, 362880, 3628800]\n",
      "List have atleast one element common\n"
     ]
    }
   ],
   "source": [
    "\n",
    "#Que36\n",
    "sq=[x**2 for x in num]\n",
    "print(sq)\n",
    "\n",
    "#Que37\n",
    "my_list = ['apple', 'banana', 'orange', 'kiwi']\n",
    "res_dict={index:value for index,value in enumerate(my_list)}\n",
    "print(res_dict)\n",
    "\n",
    "#Que38\n",
    "import random\n",
    "\n",
    "# Example list\n",
    "my_list = [1, 2, 3, 4, 5, 6, 7, 8, 9]\n",
    "\n",
    "print(\"Original list:\", my_list)\n",
    "\n",
    "# Shuffle the list randomly\n",
    "random.shuffle(my_list)\n",
    "\n",
    "print(\"Shuffled list:\", my_list)\n",
    "\n",
    "#Que39\n",
    "fact=1\n",
    "factorial=[]\n",
    "for i in range(1,11):\n",
    "    fact=fact*i\n",
    "    factorial.append(fact)\n",
    "print(\"factorial list :\",factorial)\n",
    "#Que40\n",
    "l1=[1,2,3]\n",
    "l2=[1,5,6,7]\n",
    "common=False\n",
    "for x in l1:\n",
    "    if x in l2:\n",
    "        common=True\n",
    "        break\n",
    "if common:\n",
    "    print(\"List have atleast one element common\")\n",
    "else:\n",
    "    print(\"List have no element common\")\n",
    "    print(\"List have no element common\")\n"
   ]
  },
  {
   "cell_type": "code",
   "execution_count": 29,
   "id": "6967ae99-ae9c-446f-a324-30d74ef0f8d6",
   "metadata": {},
   "outputs": [
    {
     "name": "stdout",
     "output_type": "stream",
     "text": [
      "[]\n",
      "[1, 0, 3, 0, 5, 0]\n",
      "['This', 'is', 'string']\n",
      "hi hello\n",
      "[2, 4, 8, 16, 32, 64, 128, 256, 512, 1024]\n"
     ]
    }
   ],
   "source": [
    "#Que41\n",
    "l2.clear()\n",
    "print(l2)\n",
    "\n",
    "#Que42\n",
    "original_list = [1, -2, 3, -4, 5, -6]\n",
    "modified_list = [x if x >= 0 else 0 for x in original_list]\n",
    "print(modified_list)\n",
    "\n",
    "#Que43\n",
    "str=\"This is string\"\n",
    "li=list(str.split(\" \"))\n",
    "print(li)\n",
    "\n",
    "#Que44\n",
    "li=['hi','hello']\n",
    "print(' '.join(li))\n",
    "\n",
    "#Que45\n",
    "power_of_two=[2**x for x in range(1,11)]\n",
    "print(power_of_two)\n"
   ]
  },
  {
   "cell_type": "code",
   "execution_count": 30,
   "id": "9d26a649-b94e-4ba8-a9a6-6c2125979fd8",
   "metadata": {},
   "outputs": [
    {
     "name": "stdout",
     "output_type": "stream",
     "text": [
      "[2, 4, 8, 16, 32, 64, 128, 256, 512, 1024]\n",
      "vedant\n",
      "hi\n",
      "[1, 3, 6, 10, 15, 21, 28, 36, 45, 55]\n",
      "True\n",
      "Original list: [3, 7, 2, 9, 4]\n",
      "List after swapping elements at index 1 and 3: [3, 9, 2, 7, 4]\n"
     ]
    }
   ],
   "source": [
    "#Que45\n",
    "power_of_two=[2**x for x in range(1,11)]\n",
    "print(power_of_two)\n",
    "\n",
    "#Que46\n",
    "str=['hi','my','name','is','vedant']\n",
    "print(max(str,key=len))\n",
    "\n",
    "#Que47\n",
    "print(min(str,key=len))\n",
    "\n",
    "#Que48\n",
    "def triangular_numbers(n):\n",
    "    if n <= 0:\n",
    "        return []\n",
    "    else:\n",
    "        triangular = [i * (i + 1) // 2 for i in range(1, n + 1)]\n",
    "        return triangular\n",
    "n = 10\n",
    "triangular_list = triangular_numbers(n)\n",
    "print(triangular_list)\n",
    "\n",
    "#QUe49\n",
    "l1=[[1,2,3],[4,5,6],[7,8,9]]\n",
    "l2=[1,2,3]\n",
    "if l2 in l1:\n",
    "    print(True)\n",
    "else:\n",
    "    print(False)\n",
    "\n",
    "#Que50\n",
    "def swap_elements(lst, idx1, idx2):\n",
    "    if 0 <= idx1 < len(lst) and 0 <= idx2 < len(lst):  # Check if indices are within the list range\n",
    "        lst[idx1], lst[idx2] = lst[idx2], lst[idx1]\n",
    "my_list = [3, 7, 2, 9, 4]\n",
    "\n",
    "index1 = 1\n",
    "index2 = 3\n",
    "print(\"Original list:\", my_list)\n",
    "swap_elements(my_list, index1, index2)\n",
    "print(f\"List after swapping elements at index {index1} and {index2}:\", my_list)\n"
   ]
  },
  {
   "cell_type": "code",
   "execution_count": 31,
   "id": "c6a6832b-8224-4c47-ae73-760c0f1be6ab",
   "metadata": {},
   "outputs": [],
   "source": [
    "# tuple problems"
   ]
  },
  {
   "cell_type": "code",
   "execution_count": 32,
   "id": "afba027f-fa12-4677-9dfe-c439dfaa0997",
   "metadata": {},
   "outputs": [
    {
     "name": "stdout",
     "output_type": "stream",
     "text": [
      "(1, 2, 3, 4, 5)\n",
      "3\n",
      "length of tuple is 5\n",
      "5 is occurred 3 times in (1, 2, 3, 5, 5, 5)\n",
      "3\n"
     ]
    }
   ],
   "source": [
    "#Que1\n",
    "my_tuple=tuple(range(1,6))\n",
    "print(my_tuple)\n",
    "\n",
    "#Que2\n",
    "print(my_tuple[2])\n",
    "\n",
    "#Que3\n",
    "length=0\n",
    "for x in my_tuple:\n",
    "    length=length+1\n",
    "print(f\"length of tuple is {length}\")\n",
    "\n",
    "#Que4\n",
    "t=(1,2,3,5,5,5)\n",
    "ele=5\n",
    "cnt=0\n",
    "for x in t:\n",
    "    if x==ele:\n",
    "        cnt=cnt+1\n",
    "print(f\"{ele} is occurred {cnt} times in {t}\")\n",
    "\n",
    "#Que5\n",
    "print(t.index(ele))\n"
   ]
  },
  {
   "cell_type": "code",
   "execution_count": 33,
   "id": "94f86bed-41b8-42c6-b9ab-dbd27049d68d",
   "metadata": {},
   "outputs": [
    {
     "name": "stdout",
     "output_type": "stream",
     "text": [
      "True\n",
      "[1, 2, 3, 5, 5, 5]\n",
      "(1, 2, 3)\n",
      "a: 10\n",
      "b: 20\n",
      "c: 30\n",
      "(2, 4, 6, 8, 10)\n"
     ]
    }
   ],
   "source": [
    "\n",
    "#Que6\n",
    "if 5 in my_tuple:\n",
    "    print(True)\n",
    "else:\n",
    "    print(False)\n",
    "\n",
    "#QUe7\n",
    "print(list(t))\n",
    "\n",
    "#Que8\n",
    "li=[1,2,3]\n",
    "print(tuple(li))\n",
    "\n",
    "#Que9\n",
    "my_tuple = (10, 20, 30)\n",
    "a, b, c = my_tuple\n",
    "print(\"a:\", a)\n",
    "print(\"b:\", b)\n",
    "print(\"c:\", c)\n",
    "\n",
    "#Que10\n",
    "even=[]\n",
    "for x in range(1,11):\n",
    "    if x%2==0:\n",
    "        even.append(x)\n",
    "print(tuple(even))\n"
   ]
  },
  {
   "cell_type": "code",
   "execution_count": 34,
   "id": "5c734682-5471-44c8-91c6-8f1515f72620",
   "metadata": {},
   "outputs": [
    {
     "name": "stdout",
     "output_type": "stream",
     "text": [
      "(1, 3, 5, 7, 9)\n",
      "(1, 2, 3, 4, 5, 6)\n",
      "(1, 2, 3, 1, 2, 3, 1, 2, 3)\n",
      "Tuple is not empty\n",
      "((1, 2, 3), ('a', 'b', 'c'), (True, False))\n"
     ]
    }
   ],
   "source": [
    "#Que11\n",
    "odd=[]\n",
    "for x in range(1,11):\n",
    "    if x%2!=0:\n",
    "        odd.append(x)\n",
    "print(tuple(odd))\n",
    "\n",
    "#Que12\n",
    "\n",
    "t1=(1,2,3)\n",
    "t2=(4,5,6)\n",
    "print(t1+t2)\n",
    "\n",
    "#Que13\n",
    "print(t1*3)\n",
    "\n",
    "#Que14\n",
    "if len(t1)==0:\n",
    "    print(\"Tuple is empty\")\n",
    "else:\n",
    "    print(\"Tuple is not empty\")\n",
    "\n",
    "#Que15\n",
    "nested_tuple = ((1, 2, 3), ('a', 'b', 'c'), (True, False))\n",
    "print(nested_tuple)"
   ]
  },
  {
   "cell_type": "code",
   "execution_count": 35,
   "id": "abc82377-f9cf-4030-8f81-4fd9ef3f51ce",
   "metadata": {},
   "outputs": [
    {
     "name": "stdout",
     "output_type": "stream",
     "text": [
      "(1, 2, 3)\n",
      "<class 'tuple'>\n",
      "Tuples are not equal\n",
      "(1, 2, 3)\n"
     ]
    }
   ],
   "source": [
    "#Que16\n",
    "print(nested_tuple[0])\n",
    "\n",
    "#Que17\n",
    "single=(1,)\n",
    "print(type(single))\n",
    "\n",
    "#Que18\n",
    "if t1==t2:\n",
    "    print(\"Tuples are equal\")\n",
    "else:\n",
    "    print(\"Tuples are not equal\")\n",
    "\n",
    "#Que19\n",
    "del single\n",
    "\n",
    "#Que20\n",
    "print(t1[0:])\n"
   ]
  },
  {
   "cell_type": "code",
   "execution_count": 36,
   "id": "8e20bcf6-a712-4a4e-b030-9f62997eaae8",
   "metadata": {},
   "outputs": [
    {
     "name": "stdout",
     "output_type": "stream",
     "text": [
      "3\n",
      "4\n",
      "('H', 'e', 'l', 'l', 'o')\n",
      "Hello\n",
      "(10, 'Hello', 3.14, True)\n"
     ]
    }
   ],
   "source": [
    "#Que21\n",
    "print(max(t1))\n",
    "\n",
    "#Que22\n",
    "print(min(t2))\n",
    "\n",
    "#Que23\n",
    "str=\"Hello\"\n",
    "tuple_of_char=tuple((str))\n",
    "print(tuple_of_char)\n",
    "\n",
    "#Que24\n",
    "tuple_of_char=('H','e','l','l','o')\n",
    "str=''.join(tuple_of_char)\n",
    "print(str)\n",
    "\n",
    "#Que25\n",
    "mixed_tuple = (10, \"Hello\", 3.14, True)\n",
    "print(mixed_tuple)\n"
   ]
  },
  {
   "cell_type": "code",
   "execution_count": 38,
   "id": "09947a7c-4581-4174-8645-13c20921b872",
   "metadata": {},
   "outputs": [
    {
     "name": "stdout",
     "output_type": "stream",
     "text": [
      "The tuples are identical.\n",
      "[2, 3, 8, 11, 21, 33, 66, 89]\n",
      "(1, 2, 3, 4, 5)\n",
      "(1, 2, 3, 'a', 'b', 'c')\n"
     ]
    }
   ],
   "source": [
    "#Que26\n",
    "tuple1 = (1, 2, 3)\n",
    "tuple2 = (1, 2, 3)\n",
    "\n",
    "if tuple1 == tuple2:\n",
    "    print(\"The tuples are identical.\")\n",
    "else:\n",
    "    print(\"The tuples are not identical.\")\n",
    "\n",
    "#Que27\n",
    "unsorted_tuple=(2,11,3,33,66,8,21,89)\n",
    "print(sorted(unsorted_tuple))\n",
    "\n",
    "#Que28\n",
    "# tuple_of_integers = (1, 2, 3, 4, 5)\n",
    "# tuple_of_strings = tuple(str(i) for i in tuple_of_integers)\n",
    "# print(tuple_of_strings)\n",
    "\n",
    "#Que29\n",
    "tuple_of_str=('1','2','3','4','5')\n",
    "tuple_of_int=tuple(int(i) for i in tuple_of_str)\n",
    "print(tuple_of_int)\n",
    "\n",
    "#Que30\n",
    "t1=(1,2,3)\n",
    "t2=('a','b','c')\n",
    "merge_tuple=t1+t2\n",
    "print(merge_tuple)\n"
   ]
  },
  {
   "cell_type": "code",
   "execution_count": 40,
   "id": "317d03b2-bf9b-48cf-b780-f4dc7e22c21e",
   "metadata": {},
   "outputs": [
    {
     "name": "stdout",
     "output_type": "stream",
     "text": [
      "<generator object <genexpr> at 0x7f45e4597d10>\n",
      "(2, 3, 5, 7, 11)\n",
      "Tuple is not palindrome\n",
      "(1, 4, 9, 16, 25)\n",
      "(2, 4, 6, 8)\n"
     ]
    }
   ],
   "source": [
    "#Que31\n",
    "nested_tuple=((1,2,3),('a','b','c'))\n",
    "t=(y for x in nested_tuple for y in x)\n",
    "print(t)\n",
    "\n",
    "#Que32\n",
    "def is_prime(num):\n",
    "    if num < 2:\n",
    "        return False\n",
    "    for i in range(2, int(num ** 0.5) + 1):\n",
    "        if num % i == 0:\n",
    "            return False\n",
    "    return True\n",
    "\n",
    "count = 0\n",
    "num = 2\n",
    "prime_numbers = []\n",
    "\n",
    "while count < 5:\n",
    "    if is_prime(num):\n",
    "        prime_numbers.append(num)\n",
    "        count += 1\n",
    "    num += 1\n",
    "\n",
    "prime_numbers_tuple = tuple(prime_numbers)\n",
    "print(prime_numbers_tuple)\n",
    "\n",
    "#Que33\n",
    "palindrome=('m','a','d','a','m',1,2,1,1,2,1)\n",
    "if palindrome[0:]==palindrome[::-1]:\n",
    "    print(\"Tuple is palindrome\")\n",
    "else:\n",
    "    print(\"Tuple is not palindrome\")\n",
    "\n",
    "#Que34\n",
    "square=(x**2 for x in range(1,6))\n",
    "print(tuple(square))\n",
    "\n",
    "#Que35\n",
    "t1=(1,2,3,4,5,6,7,8)\n",
    "even=(x for x in t1 if x%2==0)\n",
    "print(tuple(even))\n"
   ]
  },
  {
   "cell_type": "code",
   "execution_count": 41,
   "id": "8c41a9b3-1a2a-4eab-ae1d-1011137c9cf4",
   "metadata": {},
   "outputs": [
    {
     "name": "stdout",
     "output_type": "stream",
     "text": [
      "(2, 4, 6, 8, 10, 12, 14, 16)\n",
      "(22, 27, 76, 96, 5)\n",
      "sorted\n",
      "(3, 4, 5, 1, 2)\n",
      "(4, 5, 1, 2, 3)\n"
     ]
    }
   ],
   "source": [
    "#Que36\n",
    "t2=(x*2 for x in t1)\n",
    "print(tuple(t2))\n",
    "\n",
    "#Que37\n",
    "import random\n",
    "random_numbers = tuple(random.randint(1, 100) for i in range(5))\n",
    "print(random_numbers)\n",
    "\n",
    "#Que38\n",
    "if sorted(t1):\n",
    "    print(\"sorted\")\n",
    "else:\n",
    "    print(\"Not sorted\")\n",
    "\n",
    "#Que39\n",
    "original_tuple = (1, 2, 3, 4, 5)\n",
    "n = 2\n",
    "rotated_tuple = original_tuple[n:] + original_tuple[:n]\n",
    "print(rotated_tuple)\n",
    "\n",
    "#Que40\n",
    "original_tuple = (1, 2, 3, 4, 5)\n",
    "n = 2\n",
    "rotate_index = len(original_tuple) - n\n",
    "rotated_tuple = original_tuple[rotate_index:] + original_tuple[:rotate_index]\n",
    "print(rotated_tuple)\n"
   ]
  },
  {
   "cell_type": "code",
   "execution_count": 43,
   "id": "7c46a029-669a-46d6-b77b-b9c30960bc4f",
   "metadata": {},
   "outputs": [
    {
     "name": "stdout",
     "output_type": "stream",
     "text": [
      "[0, 1, 1, 2, 3, 5, 8]\n"
     ]
    },
    {
     "name": "stdin",
     "output_type": "stream",
     "text": [
      "How many elements you want in tuple 3\n",
      "Enter element 1\n",
      "Enter element 2\n",
      "Enter element 3\n"
     ]
    },
    {
     "name": "stdout",
     "output_type": "stream",
     "text": [
      "('1', '2', '3')\n",
      "(1, 4, 3, 2, 5)\n",
      "[8, 5, 3, 2, 1, 1, 0]\n",
      "(1, 2, 4, 8, 16)\n"
     ]
    }
   ],
   "source": [
    "#Que41\n",
    "fibonacii=[0,1]\n",
    "for i in range(1,6):\n",
    "    fib=fibonacii[-1]+fibonacii[-2]\n",
    "    fibonacii.append(fib)\n",
    "print(fibonacii)\n",
    "\n",
    "#QUe42\n",
    "t=[]\n",
    "n=int(input(\"How many elements you want in tuple\"))\n",
    "for i in range(0,n):\n",
    "     ele=input(\"Enter element\")\n",
    "     t.append(ele)\n",
    "\n",
    "print(tuple(t))\n",
    "\n",
    "#Que43\n",
    "# Original tuple\n",
    "original_tuple = (1, 2, 3, 4, 5)\n",
    "\n",
    "tuple_list = list(original_tuple)\n",
    "index1 = 1\n",
    "index2 = 3\n",
    "tuple_list[index1], tuple_list[index2] = tuple_list[index2], tuple_list[index1]\n",
    "swapped_tuple = tuple(tuple_list)\n",
    "print(swapped_tuple)\n",
    "\n",
    "\n",
    "#Que44\n",
    "print(fibonacii[::-1])\n",
    "\n",
    "#Que45\n",
    "n = 5\n",
    "powers_of_2_list = tuple(2 ** i for i in range(n))\n",
    "print(powers_of_2_list)\n"
   ]
  },
  {
   "cell_type": "code",
   "execution_count": 44,
   "id": "f787838e-55c0-4ec8-a24a-b907ca5c2fdd",
   "metadata": {},
   "outputs": [
    {
     "name": "stdout",
     "output_type": "stream",
     "text": [
      "Hello\n",
      "Hi\n",
      "(1, 3, 6, 10, 15, 21, 28)\n",
      "True\n",
      "(1, 0, 1, 0, 1, 0, 1, 0)\n"
     ]
    }
   ],
   "source": [
    "#Que46\n",
    "tuple_str=('Hi','Hello')\n",
    "print(max(tuple_str,key=len))\n",
    "\n",
    "#Que47\n",
    "print(min(tuple_str,key=len))\n",
    "\n",
    "#Que48\n",
    "n = 7\n",
    "triangular_numbers = tuple((i * (i + 1)) // 2 for i in range(1, n + 1))\n",
    "print(triangular_numbers)\n",
    "\n",
    "#Que49\n",
    "tuple_1=((1,2,3),(4,5,6),(7,8,9))\n",
    "tuple_2=(1,2,3)\n",
    "if tuple_2 in tuple_1:\n",
    "    print(True)\n",
    "else:\n",
    "    print(False)\n",
    "\n",
    "#Que50\n",
    "n = 8\n",
    "alternating_ones_zeros = tuple(1 if i % 2 == 0 else 0 for i in range(n))\n",
    "print(alternating_ones_zeros)\n"
   ]
  },
  {
   "cell_type": "code",
   "execution_count": 45,
   "id": "826ed2fa-617d-4d57-9fd4-62094e835a73",
   "metadata": {},
   "outputs": [],
   "source": [
    "#Set Problems"
   ]
  },
  {
   "cell_type": "code",
   "execution_count": 46,
   "id": "5241b181-2f34-42c9-8b78-46849c23207b",
   "metadata": {},
   "outputs": [
    {
     "name": "stdout",
     "output_type": "stream",
     "text": [
      "{1, 2, 3, 4, 5}\n",
      "{2, 3, 4, 5}\n",
      "False\n",
      "Length of set is :  4\n"
     ]
    }
   ],
   "source": [
    "#Que1,#Que2\n",
    "s=set()\n",
    "for i in range(1,6):\n",
    "    s.add(i)\n",
    "print(s)\n",
    "\n",
    "#Que3\n",
    "s.remove(1)\n",
    "print(s)\n",
    "\n",
    "#Que4\n",
    "if 1 in s:\n",
    "    print(True)\n",
    "else:\n",
    "    print(False)\n",
    "\n",
    "#Que5\n",
    "length=0\n",
    "for i in s:\n",
    "    length=length+1\n",
    "print(f\"Length of set is : \",length)\n"
   ]
  },
  {
   "cell_type": "code",
   "execution_count": 47,
   "id": "7f4a7fa1-95b4-4a3d-b9d6-8d8c0a824b6b",
   "metadata": {},
   "outputs": [
    {
     "name": "stdout",
     "output_type": "stream",
     "text": [
      "set()\n",
      "{2, 4, 6, 8, 10}\n",
      "{1, 3, 5, 7, 9}\n",
      "Union of two sets :  {1, 2, 3, 4, 5, 6}\n",
      "Intersection of two sets : {2}\n"
     ]
    }
   ],
   "source": [
    "#Que6\n",
    "s.clear()\n",
    "print(s)\n",
    "\n",
    "#Que7\n",
    "even=set(x for x in range(1,11) if x%2==0)\n",
    "print(even)\n",
    "\n",
    "#Que8\n",
    "odd=set(x for x in range(1,11) if x%2!=0)\n",
    "print(odd)\n",
    "\n",
    "#Que9\n",
    "s1={1,2,3}\n",
    "s2={4,5,6,2}\n",
    "print(\"Union of two sets : \",s1.union(s2))\n",
    "\n",
    "#Que10\n",
    "print(\"Intersection of two sets :\",s1.intersection(s2))\n"
   ]
  },
  {
   "cell_type": "code",
   "execution_count": 48,
   "id": "9358d2e6-61da-4d70-b069-2516654b1291",
   "metadata": {},
   "outputs": [
    {
     "name": "stdout",
     "output_type": "stream",
     "text": [
      "{1, 3}\n",
      "False\n",
      "False\n",
      "{1, 2, 3}\n",
      "[1, 2, 3]\n"
     ]
    }
   ],
   "source": [
    "#Que11\n",
    "print(s1.difference(s2))\n",
    "\n",
    "#Que12\n",
    "print(s1.issubset(s2))\n",
    "\n",
    "#Que13\n",
    "print(s1.issuperset(s2))\n",
    "\n",
    "#Que14\n",
    "li=[1,2,3]\n",
    "print(set(li))\n",
    "\n",
    "#Que15\n",
    "print(list(s1))\n"
   ]
  },
  {
   "cell_type": "code",
   "execution_count": 49,
   "id": "37d55710-816f-4a09-b681-4b44fb3972da",
   "metadata": {},
   "outputs": [
    {
     "name": "stdout",
     "output_type": "stream",
     "text": [
      "Removed element: 1\n",
      "Set after removal: {2, 3, 4, 5}\n",
      "2\n",
      "Set have no element in common\n",
      "{1, 2, 3, 4, 5, 6}\n",
      "{1, 2, 3, 4, 5, 6}\n"
     ]
    }
   ],
   "source": [
    "#Que16\n",
    "import random\n",
    "\n",
    "# Sample set\n",
    "my_set = {1, 2, 3, 4, 5}\n",
    "\n",
    "# Convert the set to a list to enable indexing\n",
    "set_list = list(my_set)\n",
    "\n",
    "# Choose a random index from the list\n",
    "random_index = random.randint(0, len(set_list) - 1)\n",
    "\n",
    "# Remove the element at the random index\n",
    "removed_element = set_list.pop(random_index)\n",
    "\n",
    "# Convert the list back to a set\n",
    "my_set = set(set_list)\n",
    "\n",
    "print(f\"Removed element: {removed_element}\")\n",
    "print(f\"Set after removal: {my_set}\")\n",
    "\n",
    "\n",
    "#Que17\n",
    "print(my_set.pop())\n",
    "\n",
    "#Que18\n",
    "s1={1,2,3}\n",
    "s2={4,5,6}\n",
    "\n",
    "if s1.isdisjoint(s2):\n",
    "    print(\"Set have no element in common\")\n",
    "else:\n",
    "    print(\"Set have common elements\")\n",
    "\n",
    "#Que19\n",
    "print(s1.symmetric_difference(s2))\n",
    "\n",
    "#Que20\n",
    "s1.update(s2)\n",
    "print(s1)\n"
   ]
  },
  {
   "cell_type": "code",
   "execution_count": 50,
   "id": "eb02521a-cf26-422d-9447-5644bb7c8709",
   "metadata": {},
   "outputs": [
    {
     "name": "stdout",
     "output_type": "stream",
     "text": [
      "Set of the first 5 prime numbers: {2, 3, 5, 7, 11}\n",
      "Set are not identical\n",
      "frozenset({3, 4, 5})\n",
      "set is not disjoint\n",
      "{1, 4, 9, 16, 25}\n"
     ]
    }
   ],
   "source": [
    "#Que21\n",
    "# Function to check if a number is prime\n",
    "def is_prime(n):\n",
    "    if n <= 1:\n",
    "        return False\n",
    "    for i in range(2, int(n ** 0.5) + 1):\n",
    "        if n % i == 0:\n",
    "            return False\n",
    "    return True\n",
    "\n",
    "# Generate the first 5 prime numbers\n",
    "prime_numbers = set()\n",
    "num = 2  # Starting from 2, the first prime number\n",
    "\n",
    "while len(prime_numbers) < 5:\n",
    "    if is_prime(num):\n",
    "        prime_numbers.add(num)\n",
    "    num += 1\n",
    "\n",
    "print(\"Set of the first 5 prime numbers:\", prime_numbers)\n",
    "\n",
    "#Que22\n",
    "if s1==s2:\n",
    "    print(\"Set are identical\")\n",
    "else:\n",
    "    print(\"Set are not identical\")\n",
    "\n",
    "#Que23\n",
    "frozen=frozenset(my_set)\n",
    "print(frozen)\n",
    "\n",
    "#Que24\n",
    "if s1.isdisjoint(s2):\n",
    "    print(\"set is disjoint\")\n",
    "else:\n",
    "    print(\"set is not disjoint\")\n",
    "\n",
    "#Que25\n",
    "square=set(x**2 for x in range(1,6))\n",
    "print(square)\n"
   ]
  },
  {
   "cell_type": "code",
   "execution_count": 51,
   "id": "3de6e961-bafe-41a2-ac60-aad073a7bcb4",
   "metadata": {},
   "outputs": [
    {
     "name": "stdout",
     "output_type": "stream",
     "text": [
      "{16, 4}\n",
      "{1, 9, 25}\n",
      "{1, 2, 5, 6, 7, 9, 10}\n",
      "set is not empty\n",
      "Nested set: {frozenset({1, 2, 3}), frozenset({4, 5, 6}), frozenset({8, 9, 7})}\n"
     ]
    }
   ],
   "source": [
    "#Que26\n",
    "even=set(x for x in square if x%2==0)\n",
    "print(even)\n",
    "\n",
    "#Que27\n",
    "odd=set(x for x in square if x%2!=0)\n",
    "print(odd)\n",
    "\n",
    "#Que28\n",
    "import random\n",
    "set_of_random=set(random.randint(1,10) for x in range(10))\n",
    "print(set_of_random)\n",
    "\n",
    "#Que29\n",
    "if len(my_set)==0:\n",
    "    print(\"set is empty\")\n",
    "else:\n",
    "    print(\"set is not empty\")\n",
    "\n",
    "#Que30\n",
    "nested_set = {frozenset({1, 2, 3}), frozenset({4, 5, 6}), frozenset({7, 8, 9})}\n",
    "print(\"Nested set:\", nested_set)\n"
   ]
  },
  {
   "cell_type": "code",
   "execution_count": 53,
   "id": "d63b41f9-79d0-4d46-b830-8c01d45a90c6",
   "metadata": {},
   "outputs": [
    {
     "name": "stdout",
     "output_type": "stream",
     "text": [
      "{1, 2, 3, 4, 5, 6, 7, 8, 9}\n",
      "The sets are equal.\n",
      "{'l', 'i', 'H', 'h', 'e', ' ', 't', 'g', 's', 'r', 'o', 'n'}\n",
      "{'3', '1', '2', '5', '4'}\n",
      "{1, 2, 3, 4, 5}\n"
     ]
    }
   ],
   "source": [
    "#Que31\n",
    "demo_set={1,2,3,4,5,6,7,8,9,10}\n",
    "demo_set.discard(10)\n",
    "print(demo_set)\n",
    "\n",
    "#Que32\n",
    "set1 = {1, 2, 3}\n",
    "set2 = {3, 2, 1}\n",
    "\n",
    "if set1 == set2:\n",
    "    print(\"The sets are equal.\")\n",
    "else:\n",
    "    print(\"The sets are not equal.\")\n",
    "\n",
    "#Que33\n",
    "str=\"Hello this is string\"\n",
    "string_set=set(' '.join(str.split(\" \")))\n",
    "print(string_set)\n",
    "\n",
    "#Que34\n",
    "set_of_str={'1','2','3','4','5'}\n",
    "print(set_of_str)\n",
    "set_of_int=set(int(x) for x in set_of_str)\n",
    "print(set_of_int)\n",
    "\n",
    "#Que35\n",
    "# s_int={1,2,3,4,5}\n",
    "# s_str=set(str(x) for x in s_int)\n",
    "# print(s_str)\n"
   ]
  },
  {
   "cell_type": "code",
   "execution_count": 54,
   "id": "37980aa1-6ad3-4cff-a893-41fa62bf8f05",
   "metadata": {},
   "outputs": [
    {
     "name": "stdout",
     "output_type": "stream",
     "text": [
      "{1, 2, 3, 4}\n",
      "(1, 2, 3, 4, 5, 6)\n",
      "5\n",
      "3\n"
     ]
    },
    {
     "name": "stdin",
     "output_type": "stream",
     "text": [
      "Enter elements separated by spaces:  3\n"
     ]
    },
    {
     "name": "stdout",
     "output_type": "stream",
     "text": [
      "Set from user input: {'3'}\n"
     ]
    }
   ],
   "source": [
    "#Que36\n",
    "t=(1,2,3,4,4)\n",
    "print(set(t))\n",
    "\n",
    "#Que37\n",
    "print(tuple(s1))\n",
    "\n",
    "#Que38\n",
    "print(max(my_set))\n",
    "\n",
    "#Que39\n",
    "print(min(my_set))\n",
    "\n",
    "#Que40\n",
    "user_input = input(\"Enter elements separated by spaces: \")\n",
    "input_list = user_input.split()\n",
    "user_set = set(input_list)\n",
    "print(\"Set from user input:\", user_set)\n"
   ]
  },
  {
   "cell_type": "code",
   "execution_count": 55,
   "id": "fb65c67a-dc9c-43c3-aabf-86766de964b1",
   "metadata": {},
   "outputs": [
    {
     "name": "stdout",
     "output_type": "stream",
     "text": [
      "The intersection of set1 and set2 is empty.\n",
      "Set of the first 5 Fibonacci numbers: {0, 1, 2, 3}\n",
      "{1, 2, 4, 5, 6}\n",
      "The sets have the same elements, regardless of count.\n",
      "{8, 16, 2, 4}\n"
     ]
    }
   ],
   "source": [
    "#Que41\n",
    "set1 = {1, 2, 3}\n",
    "set2 = {4, 5, 6}\n",
    "if set1.isdisjoint(set2):\n",
    "    print(\"The intersection of set1 and set2 is empty.\")\n",
    "else:\n",
    "    print(\"The intersection of set1 and set2 is not empty.\")\n",
    "\n",
    "#Que42\n",
    "def generate_fibonacci(n):\n",
    "    fibonacci_set = set()\n",
    "    a, b = 0, 1\n",
    "\n",
    "    for _ in range(n):\n",
    "        fibonacci_set.add(a)\n",
    "        a, b = b, a + b\n",
    "\n",
    "    return fibonacci_set\n",
    "\n",
    "first_5_fibonacci = generate_fibonacci(5)\n",
    "print(\"Set of the first 5 Fibonacci numbers:\", first_5_fibonacci)\n",
    "\n",
    "#Que43\n",
    "duplicate_lits=[1,2,1,2,4,5,6]\n",
    "print(set(duplicate_lits))\n",
    "\n",
    "#Que44\n",
    "set1 = {1, 2, 3, 3, 4}\n",
    "set2 = {4, 3, 2, 1}\n",
    "if len(set(set1)) == len(set(set2)):\n",
    "    print(\"The sets have the same elements, regardless of count.\")\n",
    "else:\n",
    "    print(\"The sets do not have the same elements, regardless of count.\")\n",
    "\n",
    "#Que45\n",
    "set_of_Power2=set(2**x for x in range(1,5))\n",
    "print(set_of_Power2)\n"
   ]
  },
  {
   "cell_type": "code",
   "execution_count": 56,
   "id": "78636cca-55fb-4dff-9a62-fbc00dc1fc51",
   "metadata": {},
   "outputs": [
    {
     "name": "stdout",
     "output_type": "stream",
     "text": [
      "common elements :  [1, 5]\n",
      "Set of the first 5 triangular numbers: {1, 3, 6, 10, 15}\n",
      "True\n",
      "{1, 2, 3, 4, 5, 6, 7, 8, 9}\n"
     ]
    }
   ],
   "source": [
    "#Que46\n",
    "li=[1,3,5,2,3,6]\n",
    "se={1,5,7}\n",
    "common=[]\n",
    "for i in li:\n",
    "    if i in se:\n",
    "        common.append(i)\n",
    "print(\"common elements : \",common)\n",
    "\n",
    "#Que47\n",
    "def generate_triangular_numbers(n):\n",
    "    triangular_numbers = set()\n",
    "    total = 0\n",
    "\n",
    "    for i in range(1, n + 1):\n",
    "        total += i\n",
    "        triangular_numbers.add(total)\n",
    "\n",
    "    return triangular_numbers\n",
    "n = 5\n",
    "first_n_triangular_numbers = generate_triangular_numbers(n)\n",
    "print(f\"Set of the first {n} triangular numbers:\", first_n_triangular_numbers)\n",
    "\n",
    "#Que48\n",
    "set_1={1,2,3,4,5,6}\n",
    "set_2={1,2,3}\n",
    "if set_2.issubset(set_1):\n",
    "    print(True)\n",
    "else:\n",
    "    print(False)\n",
    "\n",
    "#Que49 - Wrong Question\n",
    "\n",
    "#Que50\n",
    "set1={1,2,3}\n",
    "set2={4,5,6}\n",
    "set3={7,8,9}\n",
    "merge_set=set()\n",
    "merge_set=set1.union(set2,set3)\n",
    "print(merge_set)"
   ]
  },
  {
   "cell_type": "code",
   "execution_count": null,
   "id": "9e75069f-75b0-4a0d-bde1-b7c8e2034516",
   "metadata": {},
   "outputs": [],
   "source": []
  }
 ],
 "metadata": {
  "kernelspec": {
   "display_name": "Python 3 (ipykernel)",
   "language": "python",
   "name": "python3"
  },
  "language_info": {
   "codemirror_mode": {
    "name": "ipython",
    "version": 3
   },
   "file_extension": ".py",
   "mimetype": "text/x-python",
   "name": "python",
   "nbconvert_exporter": "python",
   "pygments_lexer": "ipython3",
   "version": "3.10.8"
  }
 },
 "nbformat": 4,
 "nbformat_minor": 5
}
