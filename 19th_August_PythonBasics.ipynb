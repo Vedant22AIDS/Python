{
 "cells": [
  {
   "cell_type": "code",
   "execution_count": 2,
   "id": "bad007cc-4b41-466a-8a02-93c800bdeadb",
   "metadata": {},
   "outputs": [
    {
     "ename": "SyntaxError",
     "evalue": "incomplete input (3313053722.py, line 26)",
     "output_type": "error",
     "traceback": [
      "\u001b[0;36m  Cell \u001b[0;32mIn[2], line 26\u001b[0;36m\u001b[0m\n\u001b[0;31m    '''\u001b[0m\n\u001b[0m    ^\u001b[0m\n\u001b[0;31mSyntaxError\u001b[0m\u001b[0;31m:\u001b[0m incomplete input\n"
     ]
    }
   ],
   "source": [
    "# Topic : Python Basic variables\n",
    "\n",
    "# Que1\n",
    "x=10\n",
    "y=20\n",
    "print(\"Before Swapping X = \",x,\"and Y = \",y)\n",
    "x+=y\n",
    "y=x-y\n",
    "x=x-y\n",
    "print(\"After Swapping X = \",x,\"and Y = \",y)\n",
    "print()\n",
    "\n",
    "# Que2\n",
    "# l=int(input(\"Enter the length of rectangle : \"))\n",
    "# b=int(input(\"Enter the width of rectangle : \"))\n",
    "# print(\"Area of rectangle is : \",(l*b))\n",
    "# print()\n",
    "\n",
    "# Que3\n",
    "# temp=int(input(\"Enter the temperature in celsius\"))\n",
    "# farhenite=(temp*1.8)+32\n",
    "# print(f\"{temp} celsius is equivalent to {farhenite}\")\n",
    "# print()\n",
    "\n",
    "#Topic : String Based QUestions\n",
    "'''\n",
    "# Que1\n",
    "str1=input(\"Enter the string : \")\n",
    "print(f\"Length of {str1} is \", len(str1))\n",
    "print()\n",
    "\n"
   ]
  },
  {
   "cell_type": "code",
   "execution_count": 3,
   "id": "4f21a0c4-859d-4310-8376-4a518c049a30",
   "metadata": {},
   "outputs": [
    {
     "name": "stdout",
     "output_type": "stream",
     "text": [
      "Before Swapping X =  10 and Y =  20\n",
      "After Swapping X =  20 and Y =  10\n",
      "\n"
     ]
    }
   ],
   "source": [
    "# Topic : Python Basic variables\n",
    "# Que1\n",
    "\n",
    "x=10\n",
    "y=20\n",
    "print(\"Before Swapping X = \",x,\"and Y = \",y)\n",
    "x+=y\n",
    "y=x-y\n",
    "x=x-y\n",
    "print(\"After Swapping X = \",x,\"and Y = \",y)\n",
    "print()"
   ]
  },
  {
   "cell_type": "code",
   "execution_count": 4,
   "id": "fe586e62-3a23-4172-94a8-d80b39c01d8b",
   "metadata": {},
   "outputs": [
    {
     "name": "stdin",
     "output_type": "stream",
     "text": [
      "Enter the length of rectangle :  12\n",
      "Enter the width of rectangle :  6\n"
     ]
    },
    {
     "name": "stdout",
     "output_type": "stream",
     "text": [
      "Area of rectangle is :  72\n",
      "\n"
     ]
    }
   ],
   "source": [
    "# Que2\n",
    "l=int(input(\"Enter the length of rectangle : \"))\n",
    "b=int(input(\"Enter the width of rectangle : \"))\n",
    "print(\"Area of rectangle is : \",(l*b))\n",
    "print()\n"
   ]
  },
  {
   "cell_type": "code",
   "execution_count": 5,
   "id": "2e5d9f8d-45a8-4894-8b47-b521c8dafa74",
   "metadata": {},
   "outputs": [
    {
     "name": "stdin",
     "output_type": "stream",
     "text": [
      "Enter the temperature in celsius 47\n"
     ]
    },
    {
     "name": "stdout",
     "output_type": "stream",
     "text": [
      "47 celsius is equivalent to 116.60000000000001\n",
      "\n"
     ]
    }
   ],
   "source": [
    "#Que3\n",
    "temp=int(input(\"Enter the temperature in celsius\"))\n",
    "farhenite=(temp*1.8)+32\n",
    "print(f\"{temp} celsius is equivalent to {farhenite}\")\n",
    "print()"
   ]
  },
  {
   "cell_type": "code",
   "execution_count": 6,
   "id": "c3cd2d6f-5f4e-4bb9-999c-0540a3ec6050",
   "metadata": {},
   "outputs": [
    {
     "name": "stdin",
     "output_type": "stream",
     "text": [
      "Enter the string :  vedant\n"
     ]
    },
    {
     "name": "stdout",
     "output_type": "stream",
     "text": [
      "Length of vedant is  6\n",
      "\n"
     ]
    }
   ],
   "source": [
    "#Topic : String Based QUestions\n",
    "# Que1\n",
    "\n",
    "str1=input(\"Enter the string : \")\n",
    "print(f\"Length of {str1} is \", len(str1))\n",
    "print()"
   ]
  },
  {
   "cell_type": "code",
   "execution_count": 7,
   "id": "e471dc08-46cf-44a0-a753-a3dde9e2a579",
   "metadata": {},
   "outputs": [
    {
     "name": "stdin",
     "output_type": "stream",
     "text": [
      "Enter any sentence :  vedant is consistent\n"
     ]
    },
    {
     "name": "stdout",
     "output_type": "stream",
     "text": [
      "vedant is consistent contains total :  6 Vowels.\n",
      "\n"
     ]
    }
   ],
   "source": [
    "#Que2\n",
    "sentence=input(\"Enter any sentence : \")\n",
    "count=0\n",
    "for i in range(0,len(sentence)):\n",
    "    if(sentence[i]=='a' or sentence[i]=='e' or sentence[i]=='i' or sentence[i]=='o' or sentence[i]=='u' ):\n",
    "        count=count+1\n",
    "print(f\"{sentence} contains total : \", count,\"Vowels.\")\n",
    "print()"
   ]
  },
  {
   "cell_type": "code",
   "execution_count": 8,
   "id": "44aa9e58-bf49-4486-9184-fd3e87368563",
   "metadata": {},
   "outputs": [
    {
     "name": "stdout",
     "output_type": "stream",
     "text": [
      "noitarepo gnicils gnisu ti esrever ot tnaw I dna gnirts si sihT\n",
      "\n"
     ]
    }
   ],
   "source": [
    "# Que3\n",
    "str2=\"This is string and I want to reverse it using slicing operation\"\n",
    "print(str2[::-1])\n",
    "print()"
   ]
  },
  {
   "cell_type": "code",
   "execution_count": null,
   "id": "7933f164-b58b-44df-835f-f7879a5ca7b7",
   "metadata": {},
   "outputs": [],
   "source": [
    "# Que4\n",
    "str1=input(\"Enter a string\")\n",
    "str2=str1[::-1]\n",
    "if(str1==str2):\n",
    "    print(\"String is Palindrome\")\n",
    "else:\n",
    "    print(\"String is not Palindrome\")\n",
    "print()"
   ]
  },
  {
   "cell_type": "code",
   "execution_count": null,
   "id": "f7608f65-7303-4291-b5cb-ffeca7f21544",
   "metadata": {},
   "outputs": [],
   "source": []
  }
 ],
 "metadata": {
  "kernelspec": {
   "display_name": "Python 3 (ipykernel)",
   "language": "python",
   "name": "python3"
  },
  "language_info": {
   "codemirror_mode": {
    "name": "ipython",
    "version": 3
   },
   "file_extension": ".py",
   "mimetype": "text/x-python",
   "name": "python",
   "nbconvert_exporter": "python",
   "pygments_lexer": "ipython3",
   "version": "3.10.8"
  }
 },
 "nbformat": 4,
 "nbformat_minor": 5
}
