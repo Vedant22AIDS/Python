{
 "cells": [
  {
   "cell_type": "code",
   "execution_count": 1,
   "id": "f46c823d-d7f7-482f-a964-31a70db50cc2",
   "metadata": {},
   "outputs": [],
   "source": [
    "# Basic Level"
   ]
  },
  {
   "cell_type": "code",
   "execution_count": 3,
   "id": "a573c812-94e6-4da7-b66d-753eabd0e5b4",
   "metadata": {},
   "outputs": [
    {
     "name": "stdout",
     "output_type": "stream",
     "text": [
      "1 2 3 4 5 6 7 8 9 10 \n"
     ]
    }
   ],
   "source": [
    "# Que1 print 1 to 10\n",
    "for i in range(1,11):\n",
    "     print(i,end=\" \")\n",
    "print()"
   ]
  },
  {
   "cell_type": "code",
   "execution_count": 4,
   "id": "3c821827-c35b-48db-a4f1-aa71236cdfad",
   "metadata": {},
   "outputs": [
    {
     "name": "stdout",
     "output_type": "stream",
     "text": [
      "Sum of numbers in List :  55\n"
     ]
    }
   ],
   "source": [
    "# Que2 Sum of list\n",
    "l=[1,2,3,4,5,6,7,8,9,10]\n",
    "sum=0\n",
    "for i in range(0,len(l)):\n",
    "    sum+=l[i]\n",
    "print(\"Sum of numbers in List : \",sum)"
   ]
  },
  {
   "cell_type": "code",
   "execution_count": 5,
   "id": "f64397ec-c505-4896-96f1-6ad508d57f5b",
   "metadata": {},
   "outputs": [
    {
     "name": "stdin",
     "output_type": "stream",
     "text": [
      "Enter a string Vedant\n"
     ]
    },
    {
     "name": "stdout",
     "output_type": "stream",
     "text": [
      "tnadeV\n"
     ]
    }
   ],
   "source": [
    "# Que3 Reverse String\n",
    "str1=input(\"Enter a string\")\n",
    "str2=\"\"\n",
    "for i in str1:\n",
    "    str2=i+str2\n",
    "print(str2)"
   ]
  },
  {
   "cell_type": "code",
   "execution_count": 6,
   "id": "df0e99da-d5a0-4efd-ba3a-b072e8cdd258",
   "metadata": {},
   "outputs": [
    {
     "name": "stdin",
     "output_type": "stream",
     "text": [
      "Enter a number  5\n"
     ]
    },
    {
     "name": "stdout",
     "output_type": "stream",
     "text": [
      "Factorial of 5 is : 120\n"
     ]
    }
   ],
   "source": [
    "# Que4 Factorial program\n",
    "fact=1\n",
    "n=int(input(\"Enter a number \"))\n",
    "for i in range(1,n+1):\n",
    "    fact=fact*i\n",
    "print(f\"Factorial of {n} is :\",fact)"
   ]
  },
  {
   "cell_type": "code",
   "execution_count": 7,
   "id": "58ac7553-2c59-4e7c-972e-4aeacebbe19f",
   "metadata": {},
   "outputs": [
    {
     "name": "stdout",
     "output_type": "stream",
     "text": [
      "Number of Even number in list :  5\n",
      "Number of Odd number in list :  5\n"
     ]
    }
   ],
   "source": [
    "# Que6 count even odd numbers in given list\n",
    "l=[1,2,3,4,5,6,7,8,9,10]\n",
    "counteven,countodd=0,0\n",
    "for i in range(0,len(l)):\n",
    "    if(l[i]%2==0):\n",
    "        counteven+=1\n",
    "    else:\n",
    "        countodd+=1\n",
    "print(\"Number of Even number in list : \",counteven)\n",
    "print(\"Number of Odd number in list : \",countodd)"
   ]
  },
  {
   "cell_type": "code",
   "execution_count": 8,
   "id": "2613b22f-81e9-4e44-817b-81e039158eb5",
   "metadata": {},
   "outputs": [
    {
     "name": "stdout",
     "output_type": "stream",
     "text": [
      "1*1= 1\n",
      "2*2= 4\n",
      "3*3= 9\n",
      "4*4= 16\n",
      "5*5= 25\n"
     ]
    }
   ],
   "source": [
    "# Que7 Table of number\n",
    "for i in range(1,6):\n",
    "    print(f\"{i}*{i}=\",i*i)"
   ]
  },
  {
   "cell_type": "code",
   "execution_count": 9,
   "id": "68b0b61d-9df2-467c-81a2-6bd4fbb19da1",
   "metadata": {},
   "outputs": [
    {
     "name": "stdin",
     "output_type": "stream",
     "text": [
      "Enter a string  Vedant\n"
     ]
    },
    {
     "name": "stdout",
     "output_type": "stream",
     "text": [
      "String Length :  6\n"
     ]
    }
   ],
   "source": [
    "# Que8 Length of String\n",
    "str=input(\"Enter a string \")\n",
    "count=0\n",
    "for i in str:\n",
    "    count+=1\n",
    "print(\"String Length : \",count)\n"
   ]
  },
  {
   "cell_type": "code",
   "execution_count": 10,
   "id": "2a2ff792-5e5e-4096-98b6-31ca3a818007",
   "metadata": {},
   "outputs": [
    {
     "name": "stdout",
     "output_type": "stream",
     "text": [
      "Total elements in the list :  10\n",
      "Average :  5\n"
     ]
    }
   ],
   "source": [
    "# Que9 Average of list\n",
    "l=[1,2,3,4,5,6,7,8,9,10]\n",
    "avg,total,sum=0,0,0\n",
    "\n",
    "for i in range(0,len(l)):\n",
    "    total+=1\n",
    "    sum+=l[i]\n",
    "print(\"Total elements in the list : \",total)\n",
    "print(\"Average : \",(sum)//total)"
   ]
  },
  {
   "cell_type": "code",
   "execution_count": 11,
   "id": "09140ae9-3614-4299-b967-d8c7f459fbde",
   "metadata": {},
   "outputs": [
    {
     "name": "stdin",
     "output_type": "stream",
     "text": [
      "Enter a number 3\n"
     ]
    },
    {
     "name": "stdout",
     "output_type": "stream",
     "text": [
      "0 1 1 "
     ]
    }
   ],
   "source": [
    "# Que10 Fibonacii of first 'n'\n",
    "n=int(input(\"Enter a number\"))\n",
    "a=0\n",
    "b=1\n",
    "for i in range(0,n):\n",
    "    print(a,end=\" \")\n",
    "    c=a+b\n",
    "    a=b\n",
    "    b=c"
   ]
  },
  {
   "cell_type": "code",
   "execution_count": 12,
   "id": "65c11a93-bb85-4ee4-9efb-fe2506294a36",
   "metadata": {},
   "outputs": [],
   "source": [
    "# Intermediate Level"
   ]
  },
  {
   "cell_type": "code",
   "execution_count": 1,
   "id": "136685dc-c77a-493a-97e8-137401ea0b01",
   "metadata": {},
   "outputs": [
    {
     "name": "stdout",
     "output_type": "stream",
     "text": [
      "List contains duplicate elements\n"
     ]
    }
   ],
   "source": [
    "# Que11 Program to check if list contains duplicate element\n",
    "flag=False\n",
    "li=[1,2,4,5,23,True,True,1,78.6,32.12,\"Hello\"]\n",
    "for i in range(0,len(li)):\n",
    "    for j in range(i+1,len(li)):\n",
    "        if(li[i]==li[j]):\n",
    "            flag=True\n",
    "if(flag):\n",
    "    print(\"List contains duplicate elements\")\n",
    "else:\n",
    "    print(\"List dont contain duplicate elements\")\n"
   ]
  },
  {
   "cell_type": "code",
   "execution_count": 4,
   "id": "74999c41-43e3-4e31-8adc-4591e3d24f51",
   "metadata": {},
   "outputs": [
    {
     "name": "stdin",
     "output_type": "stream",
     "text": [
      "Enter start range : 1\n",
      "Enter end range : 20\n"
     ]
    },
    {
     "name": "stdout",
     "output_type": "stream",
     "text": [
      "2\n",
      "3\n",
      "5\n",
      "7\n",
      "11\n",
      "13\n",
      "17\n",
      "19\n"
     ]
    }
   ],
   "source": [
    "#Que12 Prime number between range\n",
    "start=int(input(\"Enter start range :\"))\n",
    "end=int(input(\"Enter end range :\"))\n",
    "for num in range(start,end+1):\n",
    "    if num>1:\n",
    "        is_prime=True\n",
    "        for i in range(2,int(num**0.5)+1):\n",
    "            if num%i==0:\n",
    "                is_prime=False\n",
    "                break\n",
    "        if is_prime:\n",
    "                print(num)\n",
    "\n"
   ]
  },
  {
   "cell_type": "code",
   "execution_count": 5,
   "id": "7c4df071-07f4-43da-9cdd-e57a136c5061",
   "metadata": {},
   "outputs": [
    {
     "name": "stdout",
     "output_type": "stream",
     "text": [
      "Number of vowels :  15\n"
     ]
    }
   ],
   "source": [
    "# Que13 Count Vowels\n",
    "str=\"I am current solving questions of given assignment\"\n",
    "count=0\n",
    "for i in str:\n",
    "    if(i=='a' or i=='e' or i=='i' or i=='o' or i=='u'):\n",
    "        count=count+1\n",
    "print(\"Number of vowels : \",count)"
   ]
  },
  {
   "cell_type": "code",
   "execution_count": 6,
   "id": "1b889fca-04ee-4257-afa2-9826c943fd20",
   "metadata": {},
   "outputs": [
    {
     "name": "stdout",
     "output_type": "stream",
     "text": [
      "10\n"
     ]
    }
   ],
   "source": [
    "#Que14 Maximum element in 2-D List \n",
    "li=[\n",
    "    [4,5,6],[1,2,3],[8,9,10]\n",
    "]\n",
    "max_element=li[0][0]\n",
    "for i in li:\n",
    "    for j in i:\n",
    "        if j>max_element:\n",
    "            max_element=j\n",
    "print(j)"
   ]
  },
  {
   "cell_type": "code",
   "execution_count": 7,
   "id": "36a312e9-908f-4a03-9874-dd297bf05751",
   "metadata": {},
   "outputs": [
    {
     "name": "stdout",
     "output_type": "stream",
     "text": [
      "List before :  [1, 2, 3, 4, False, 'Vedant', 1, 1, 1, 97, 67.89, 90.65]\n",
      "List After :  [2, 3, 4, False, 'Vedant', 97, 67.89, 90.65]\n"
     ]
    }
   ],
   "source": [
    "#Que15 Remove the occurrence of specific element\n",
    "l1=[1,2,3,4,False,\"Vedant\",1,1,1,97,67.89,90.65]\n",
    "l2=[]\n",
    "print(\"List before : \",l1)\n",
    "for i in l1:\n",
    "    if i!=1:\n",
    "        l2.append(i)\n",
    "print(\"List After : \",l2)"
   ]
  },
  {
   "cell_type": "code",
   "execution_count": 8,
   "id": "9f25709a-3953-48c1-9833-dbf85d30ba9c",
   "metadata": {},
   "outputs": [
    {
     "name": "stdout",
     "output_type": "stream",
     "text": [
      "1*1 =  1\n",
      "1*2 =  2\n",
      "1*3 =  3\n",
      "1*4 =  4\n",
      "1*5 =  5\n",
      "1*6 =  6\n",
      "1*7 =  7\n",
      "1*8 =  8\n",
      "1*9 =  9\n",
      "1*10 =  10\n",
      "2*1 =  2\n",
      "2*2 =  4\n",
      "2*3 =  6\n",
      "2*4 =  8\n",
      "2*5 =  10\n",
      "2*6 =  12\n",
      "2*7 =  14\n",
      "2*8 =  16\n",
      "2*9 =  18\n",
      "2*10 =  20\n",
      "3*1 =  3\n",
      "3*2 =  6\n",
      "3*3 =  9\n",
      "3*4 =  12\n",
      "3*5 =  15\n",
      "3*6 =  18\n",
      "3*7 =  21\n",
      "3*8 =  24\n",
      "3*9 =  27\n",
      "3*10 =  30\n",
      "4*1 =  4\n",
      "4*2 =  8\n",
      "4*3 =  12\n",
      "4*4 =  16\n",
      "4*5 =  20\n",
      "4*6 =  24\n",
      "4*7 =  28\n",
      "4*8 =  32\n",
      "4*9 =  36\n",
      "4*10 =  40\n",
      "5*1 =  5\n",
      "5*2 =  10\n",
      "5*3 =  15\n",
      "5*4 =  20\n",
      "5*5 =  25\n",
      "5*6 =  30\n",
      "5*7 =  35\n",
      "5*8 =  40\n",
      "5*9 =  45\n",
      "5*10 =  50\n"
     ]
    }
   ],
   "source": [
    "#Que16 Table of number from 1 to 5\n",
    "for i in range(1,6):\n",
    "    for j in range(1,11):\n",
    "        print(f\"{i}*{j} = \",i*j)"
   ]
  },
  {
   "cell_type": "code",
   "execution_count": 13,
   "id": "b615e8e2-7607-4d29-8b61-74692dd0d3e5",
   "metadata": {},
   "outputs": [
    {
     "name": "stdout",
     "output_type": "stream",
     "text": [
      "Farhanite temperature :  [67, 89, 34, 66, 90]\n",
      "Celsius temperature :  [19.444444444444443, 31.666666666666668, 1.1111111111111112, 18.88888888888889, 32.22222222222222]\n"
     ]
    }
   ],
   "source": [
    "#Que17 Farhanite to celsius\n",
    "farhanite_temperature=[67,89,34,66,90]\n",
    "celsius_temprature=[]\n",
    "print(\"Farhanite temperature : \",farhanite_temperature)\n",
    "for farhanite in farhanite_temperature:\n",
    "    celsius=(farhanite-32)*5/9\n",
    "    celsius_temprature.append(celsius)\n",
    "print(\"Celsius temperature : \",celsius_temprature)"
   ]
  },
  {
   "cell_type": "code",
   "execution_count": 11,
   "id": "30c86667-f32e-4a9a-ac0c-3fc84fafa4e6",
   "metadata": {},
   "outputs": [
    {
     "name": "stdout",
     "output_type": "stream",
     "text": [
      "[5, 6, 7, 8, 9]\n"
     ]
    }
   ],
   "source": [
    "#Que18 Common elements between two list\n",
    "l1=[1,2,3,4,5,6,7,8,9,10]\n",
    "l2=[5,6,7,8,9]\n",
    "common=[]\n",
    "for i in l1:\n",
    "    for j in l2:\n",
    "        if i==j:\n",
    "            common.append(j)\n",
    "print(common)\n"
   ]
  },
  {
   "cell_type": "code",
   "execution_count": 14,
   "id": "b12a0e78-8a93-4850-82a1-7126bd748ab5",
   "metadata": {},
   "outputs": [
    {
     "name": "stdout",
     "output_type": "stream",
     "text": [
      "* \n",
      "* * \n",
      "* * * \n",
      "* * * * \n",
      "* * * * * \n"
     ]
    }
   ],
   "source": [
    "#Que19 Right angled triangle pattern\n",
    "row=5\n",
    "for i in range(1,row+1):\n",
    "    for j in range(1,i+1):\n",
    "        print(\"*\",end=\" \")\n",
    "    print()\n"
   ]
  },
  {
   "cell_type": "code",
   "execution_count": 15,
   "id": "1184f508-cf1f-49ec-b467-4675602bd581",
   "metadata": {},
   "outputs": [
    {
     "name": "stdin",
     "output_type": "stream",
     "text": [
      "Enter first number 15\n",
      "Enter second number 12\n"
     ]
    },
    {
     "name": "stdout",
     "output_type": "stream",
     "text": [
      "GCD of 15 and 12 is 3\n"
     ]
    }
   ],
   "source": [
    "#Que20 GCD of two numbers\n",
    "a=int(input(\"Enter first number\"))\n",
    "b=int(input(\"Enter second number\"))\n",
    "gcd=[]\n",
    "\n",
    "for i in range(1,min(a,b)+1):\n",
    "    if(a%i==0 and b%i==0):\n",
    "        gcd.append(i)\n",
    "\n",
    "result=max(gcd);\n",
    "print(f\"GCD of {a} and {b} is {result}\")"
   ]
  },
  {
   "cell_type": "code",
   "execution_count": null,
   "id": "446e8836-ed10-4baf-9118-706456f2bdeb",
   "metadata": {},
   "outputs": [],
   "source": [
    "# Advance Level"
   ]
  },
  {
   "cell_type": "code",
   "execution_count": 3,
   "id": "2ad18fff-76ea-48d8-993c-a3e01cb327fb",
   "metadata": {},
   "outputs": [
    {
     "name": "stdout",
     "output_type": "stream",
     "text": [
      "Sums of digits for each number: [6, 15, 24]\n"
     ]
    }
   ],
   "source": [
    "#Que21 Sum of digits\n",
    "\n",
    "numbers = [123, 456, 789]\n",
    "sums = [sum([int(digit) for digit in str(number)]) for number in numbers]\n",
    "\n",
    "print(\"Sums of digits for each number:\", sums)\n"
   ]
  },
  {
   "cell_type": "code",
   "execution_count": 4,
   "id": "baf2fa72-1250-4bff-befe-0d801eaa1c13",
   "metadata": {},
   "outputs": [
    {
     "name": "stdout",
     "output_type": "stream",
     "text": [
      "Prime factors of the given number: [2, 2, 2, 7]\n"
     ]
    }
   ],
   "source": [
    "#Que22 Prime factors of a given number\n",
    "number = 56\n",
    "\n",
    "prime_factors = []\n",
    "\n",
    "for i in range(2, int(number**0.5) + 1):\n",
    "    while number % i == 0:\n",
    "        prime_factors.append(i)\n",
    "        number //= i\n",
    "\n",
    "\n",
    "if number > 1:\n",
    "    prime_factors.append(number)\n",
    "\n",
    "print(\"Prime factors of the given number:\", [factor for factor in prime_factors])\n"
   ]
  },
  {
   "cell_type": "code",
   "execution_count": 5,
   "id": "9ab96475-e831-460d-afd3-288f618d61a6",
   "metadata": {},
   "outputs": [
    {
     "name": "stdout",
     "output_type": "stream",
     "text": [
      "[3, 6]\n"
     ]
    }
   ],
   "source": [
    "#Que23 count number of occurrences of specific element\n",
    "l=[1,1,3,2,2,6,7,7]\n",
    "li=[x for x in l if l.count(x)==1]\n",
    "print(li)"
   ]
  },
  {
   "cell_type": "code",
   "execution_count": 13,
   "id": "7ad37e10-5f41-4f8f-8b46-e42b0afd376e",
   "metadata": {},
   "outputs": [
    {
     "name": "stdout",
     "output_type": "stream",
     "text": [
      "[1, 2, 3, 4, 5, 6, 7, 8, 9]\n"
     ]
    }
   ],
   "source": [
    "#Que25 Flattern a nested list\n",
    "l=[[1,2,3],[4,5,6],[7,8,9]]\n",
    "li=[element for row in l for element in row]\n",
    "print(li)"
   ]
  },
  {
   "cell_type": "code",
   "execution_count": 6,
   "id": "bac7c88c-80ea-462c-8641-2d8f0bdbac4b",
   "metadata": {},
   "outputs": [
    {
     "name": "stdout",
     "output_type": "stream",
     "text": [
      "Sum of even numbers : 30\n",
      "Sum of odd numbers in list : 25\n"
     ]
    }
   ],
   "source": [
    "#Que26 sum of even and odd numbers in list\n",
    "l=[1,2,3,4,5,6,7,8,9,10]\n",
    "li=sum([x for x in l if x%2==0])\n",
    "print(\"Sum of even numbers :\",li)\n",
    "li=sum([x for x in l if x%2!=0])\n",
    "print(\"Sum of odd numbers in list :\",li)\n"
   ]
  },
  {
   "cell_type": "code",
   "execution_count": 7,
   "id": "3b7e656d-faaf-4671-b694-11ef4cdd4fa5",
   "metadata": {},
   "outputs": [
    {
     "name": "stdout",
     "output_type": "stream",
     "text": [
      "Square of odd [1, 9, 25, 49, 81]\n"
     ]
    }
   ],
   "source": [
    "#Que27 Square of odd numbers in list\n",
    "l=[]\n",
    "li=[i*i for i in range(1,11) if i%2!=0]\n",
    "print(\"Square of odd\",li)\n"
   ]
  },
  {
   "cell_type": "code",
   "execution_count": 8,
   "id": "5e85de95-44de-4fad-a8f3-683b2100813a",
   "metadata": {},
   "outputs": [
    {
     "name": "stdout",
     "output_type": "stream",
     "text": [
      "{'A': 1, 'B': 2, 'C': 3}\n"
     ]
    }
   ],
   "source": [
    "#Que28 Possible combinations of 2 list\n",
    "test_keys=['A','B','C']\n",
    "test_values=[1,2,3]\n",
    "res={test_keys[i]:test_values[i] for i in range(len(test_keys))}\n",
    "print(res)\n"
   ]
  },
  {
   "cell_type": "code",
   "execution_count": 9,
   "id": "fa0c37b0-c6c6-436a-af32-1e0b726b2976",
   "metadata": {},
   "outputs": [
    {
     "name": "stdout",
     "output_type": "stream",
     "text": [
      "['e', 'a']\n"
     ]
    }
   ],
   "source": [
    "#Que29 Vowels\n",
    "str=\"Vedant\"\n",
    "li=[i for i in str if i=='a' or i=='e' or i=='i' or i=='o' or i=='u']\n",
    "print(li)\n"
   ]
  },
  {
   "cell_type": "code",
   "execution_count": 10,
   "id": "1ce6e653-0ff0-4ebb-ac7c-dc6de4491c23",
   "metadata": {},
   "outputs": [
    {
     "name": "stdout",
     "output_type": "stream",
     "text": [
      "['Vedant', 'Unawane', 'bdf']\n"
     ]
    }
   ],
   "source": [
    "#Que30 Remove numbers from list of string\n",
    "from string import digits\n",
    "l=[\"Vedant123\",\"Unawane22\",\"1234bdf\"]\n",
    "li=[''.join(x for x in i if x.isalpha()) for i in l]\n",
    "print(li)\n"
   ]
  },
  {
   "cell_type": "code",
   "execution_count": 11,
   "id": "c7c7b70e-3886-4de2-89f1-d41a323330a7",
   "metadata": {},
   "outputs": [
    {
     "name": "stdout",
     "output_type": "stream",
     "text": [
      "[1, 2, 3, 4, 5, 6, 7, 8]\n"
     ]
    }
   ],
   "source": [
    "#Que24 list of all palindromic number upto limit \n",
    "li=[i for i in range(11,51) if str(i)==str(i)[::-1]]\n",
    "print(li)"
   ]
  },
  {
   "cell_type": "code",
   "execution_count": 12,
   "id": "b6d3fc60-099f-43d4-b760-470ff5267ea1",
   "metadata": {},
   "outputs": [],
   "source": [
    "# Advance Level"
   ]
  },
  {
   "cell_type": "code",
   "execution_count": 14,
   "id": "de07776d-9fc9-4e78-846c-f2e20013cbbd",
   "metadata": {},
   "outputs": [
    {
     "name": "stdout",
     "output_type": "stream",
     "text": [
      "Prime numbers up to 100 are: [2, 3, 5, 7, 11, 13, 17, 19, 23, 29, 31, 37, 41, 43, 47, 53, 59, 61, 67, 71, 73, 79, 83, 89, 97]\n"
     ]
    }
   ],
   "source": [
    "#Que31 list of prime number\n",
    "limit = 100\n",
    "numbers = list(range(2, limit + 1))\n",
    "prime_numbers = list(filter(lambda x: all(x % i != 0 for i in range(2, int(x**0.5) + 1)), numbers))\n",
    "print(\"Prime numbers up to\", limit, \"are:\", prime_numbers)"
   ]
  },
  {
   "cell_type": "code",
   "execution_count": 15,
   "id": "a2043452-5dde-48fe-98c8-b566d677f4f2",
   "metadata": {},
   "outputs": [
    {
     "name": "stdout",
     "output_type": "stream",
     "text": [
      "Pythagorean triplets up to 30 are: [(3, 4, 5), (5, 12, 13), (6, 8, 10), (7, 24, 25), (8, 15, 17), (9, 12, 15), (10, 24, 26), (12, 16, 20), (15, 20, 25), (20, 21, 29)]\n"
     ]
    }
   ],
   "source": [
    "#Que32 list of all pythagorean triplets\n",
    "limit = 30\n",
    "pythagorean_triplets = [(a, b, c) for a in range(1, limit) for b in range(a, limit) for c in range(b, limit) if a**2 + b**2 == c**2]\n",
    "print(\"Pythagorean triplets up to\", limit, \"are:\", pythagorean_triplets)"
   ]
  },
  {
   "cell_type": "code",
   "execution_count": 16,
   "id": "df744c90-76ee-4cc4-95ba-21a34e3d0c58",
   "metadata": {},
   "outputs": [
    {
     "name": "stdout",
     "output_type": "stream",
     "text": [
      "[(1, 4), (1, 5), (1, 6), (2, 4), (2, 5), (2, 6), (3, 4), (3, 5), (3, 6)]\n"
     ]
    }
   ],
   "source": [
    "#Que33 list of all possible combinations\n",
    "l1=[1,2,3]\n",
    "l2=[4,5,6]\n",
    "combinations=[(x,y)for x in l1 for y in l2]\n",
    "print(combinations)"
   ]
  },
  {
   "cell_type": "code",
   "execution_count": 17,
   "id": "2b5fc1a1-8161-4a2e-8d04-e4562edb3084",
   "metadata": {},
   "outputs": [
    {
     "name": "stdout",
     "output_type": "stream",
     "text": [
      "Mean: 8.6\n",
      "Median: 7.0\n",
      "Mode: 6\n"
     ]
    }
   ],
   "source": [
    "#Que34 calculate mean median mode\n",
    "numbers = [3, 6, 9, 3, 12, 8, 6, 15, 18, 6]\n",
    "# Calculate the mean\n",
    "mean = sum(numbers) / len(numbers)\n",
    "# Calculate the median\n",
    "sorted_numbers = sorted(numbers)\n",
    "n = len(sorted_numbers)\n",
    "median = (sorted_numbers[n // 2] + sorted_numbers[(n - 1) // 2]) / 2 if n % 2 == 0 else sorted_numbers[n // 2]\n",
    "# Calculate the mode\n",
    "mode = max((numbers.count(x), x) for x in set(numbers))[1]\n",
    "print(f\"Mean: {mean}\")\n",
    "print(f\"Median: {median}\")\n",
    "print(f\"Mode: {mode}\")"
   ]
  },
  {
   "cell_type": "code",
   "execution_count": 18,
   "id": "b3d5c14d-8dfb-4921-b28d-70e7d58caf9a",
   "metadata": {},
   "outputs": [
    {
     "name": "stdout",
     "output_type": "stream",
     "text": [
      "[1]\n",
      "[1, 1]\n",
      "[1, 1]\n",
      "[1, 2, 1]\n",
      "[1, 3, 3, 1]\n"
     ]
    }
   ],
   "source": [
    "#Que35 Generate Pascal triangle\n",
    "num_rows =5\n",
    "triangle = [[1]]\n",
    "[triangle.append([1] + [triangle[row - 1][i - 1] + triangle[row - 1][i] for i in range(1, row - 1)] + [1]) for row in range(1, num_rows)]\n",
    "for row in triangle:\n",
    "    print(row)"
   ]
  },
  {
   "cell_type": "code",
   "execution_count": 34,
   "id": "f3547f9b-8041-47ef-bd03-7efc12c92002",
   "metadata": {},
   "outputs": [
    {
     "ename": "TypeError",
     "evalue": "'str' object is not callable",
     "output_type": "error",
     "traceback": [
      "\u001b[0;31m---------------------------------------------------------------------------\u001b[0m",
      "\u001b[0;31mTypeError\u001b[0m                                 Traceback (most recent call last)",
      "Cell \u001b[0;32mIn[34], line 3\u001b[0m\n\u001b[1;32m      1\u001b[0m \u001b[38;5;66;03m#Que36 sum of digit of factorial from 1 to 5\u001b[39;00m\n\u001b[1;32m      2\u001b[0m \u001b[38;5;28;01mimport\u001b[39;00m \u001b[38;5;21;01mmath\u001b[39;00m\n\u001b[0;32m----> 3\u001b[0m factorial_sums \u001b[38;5;241m=\u001b[39m [\u001b[38;5;28msum\u001b[39m(\u001b[38;5;28mint\u001b[39m(digit) \u001b[38;5;28;01mfor\u001b[39;00m digit \u001b[38;5;129;01min\u001b[39;00m \u001b[38;5;28mstr\u001b[39m(math\u001b[38;5;241m.\u001b[39mfactorial(n))) \u001b[38;5;28;01mfor\u001b[39;00m n \u001b[38;5;129;01min\u001b[39;00m \u001b[38;5;28mrange\u001b[39m(\u001b[38;5;241m1\u001b[39m, \u001b[38;5;241m6\u001b[39m)]\n\u001b[1;32m      4\u001b[0m \u001b[38;5;28mprint\u001b[39m(\u001b[38;5;124m\"\u001b[39m\u001b[38;5;124mSum of digits of factorials from 1 to 5:\u001b[39m\u001b[38;5;124m\"\u001b[39m, factorial_sums)\n",
      "Cell \u001b[0;32mIn[34], line 3\u001b[0m, in \u001b[0;36m<listcomp>\u001b[0;34m(.0)\u001b[0m\n\u001b[1;32m      1\u001b[0m \u001b[38;5;66;03m#Que36 sum of digit of factorial from 1 to 5\u001b[39;00m\n\u001b[1;32m      2\u001b[0m \u001b[38;5;28;01mimport\u001b[39;00m \u001b[38;5;21;01mmath\u001b[39;00m\n\u001b[0;32m----> 3\u001b[0m factorial_sums \u001b[38;5;241m=\u001b[39m [\u001b[38;5;28msum\u001b[39m(\u001b[38;5;28mint\u001b[39m(digit) \u001b[38;5;28;01mfor\u001b[39;00m digit \u001b[38;5;129;01min\u001b[39;00m \u001b[38;5;28;43mstr\u001b[39;49m\u001b[43m(\u001b[49m\u001b[43mmath\u001b[49m\u001b[38;5;241;43m.\u001b[39;49m\u001b[43mfactorial\u001b[49m\u001b[43m(\u001b[49m\u001b[43mn\u001b[49m\u001b[43m)\u001b[49m\u001b[43m)\u001b[49m) \u001b[38;5;28;01mfor\u001b[39;00m n \u001b[38;5;129;01min\u001b[39;00m \u001b[38;5;28mrange\u001b[39m(\u001b[38;5;241m1\u001b[39m, \u001b[38;5;241m6\u001b[39m)]\n\u001b[1;32m      4\u001b[0m \u001b[38;5;28mprint\u001b[39m(\u001b[38;5;124m\"\u001b[39m\u001b[38;5;124mSum of digits of factorials from 1 to 5:\u001b[39m\u001b[38;5;124m\"\u001b[39m, factorial_sums)\n",
      "\u001b[0;31mTypeError\u001b[0m: 'str' object is not callable"
     ]
    }
   ],
   "source": [
    "#Que36 sum of digit of factorial from 1 to 5\n",
    "import math\n",
    "factorial_sums = [sum(int(digit) for digit in str(math.factorial(n))) for n in range(1, 6)]\n",
    "print(\"Sum of digits of factorials from 1 to 5:\", factorial_sums)"
   ]
  },
  {
   "cell_type": "code",
   "execution_count": 35,
   "id": "8fc2fdeb-67d8-4cb7-afa9-35bd209ccd8b",
   "metadata": {},
   "outputs": [
    {
     "name": "stdout",
     "output_type": "stream",
     "text": [
      "['Unawane']\n"
     ]
    }
   ],
   "source": [
    "#37 Longest word in a sentence\n",
    "str=\"Hello my name is vedant Unawane\"\n",
    "word=str.split()\n",
    "li=[]\n",
    "li.append(max(word,key=len))\n",
    "print(li)\n"
   ]
  },
  {
   "cell_type": "code",
   "execution_count": 24,
   "id": "f98d4c71-22d5-4430-a22a-607c3cacd9b6",
   "metadata": {},
   "outputs": [
    {
     "name": "stdout",
     "output_type": "stream",
     "text": [
      "Words with more than three vowels: ['aeipple']\n"
     ]
    }
   ],
   "source": [
    "#Que38 filter word containing vowels more than 3\n",
    "word_list = [\"aeipple\", \"banana\", \"cherry\", \"date\", \"elephant\", \"fig\"]\n",
    "filtered_words = [word for word in word_list if sum(1 for letter in word if letter in \"aeiouAEIOU\") > 3]\n",
    "print(\"Words with more than three vowels:\", filtered_words)\n"
   ]
  },
  {
   "cell_type": "code",
   "execution_count": null,
   "id": "f919d79e-56f6-4dbb-adf9-509bf940c5cf",
   "metadata": {},
   "outputs": [],
   "source": [
    "#Que39 sum of digits from 1 to 1000\n",
    "# Create a list of numbers from 1 to 1000\n",
    "numbers = range(1, 1001)\n",
    "\n",
    "# Use list comprehension to calculate the sum of digits for each number\n",
    "sums_of_digits = [sum(int(digit) for digit in str(num)) for num in numbers]\n",
    "\n",
    "# Find the sum of the sums of digits\n",
    "total_sum = sum(sums_of_digits)\n",
    "\n",
    "# Print the result\n",
    "print(\"Sum of digits from 1 to 1000:\", total_sum)\n"
   ]
  },
  {
   "cell_type": "code",
   "execution_count": null,
   "id": "72d59b33-7758-4f85-a02c-b32a9283750e",
   "metadata": {},
   "outputs": [],
   "source": [
    "#Que40 list of prime palindromic numbers\n",
    "def is_prime(n):\n",
    "    if n <= 1:\n",
    "        return False\n",
    "    for i in range(2, int(n ** 0.5) + 1):\n",
    "        if n % i == 0:\n",
    "            return False\n",
    "    return True\n",
    "\n",
    "prime_palindromic_numbers = [num for num in range(2, 1000) if is_prime(num) and str(num) == str(num)[::-1]]\n",
    "\n",
    "print(\"Prime palindromic numbers:\", prime_palindromic_numbers)\n",
    "\n"
   ]
  },
  {
   "cell_type": "code",
   "execution_count": null,
   "id": "0f7c1444-ec49-4eee-8ec8-3d4dea735c8f",
   "metadata": {},
   "outputs": [],
   "source": []
  }
 ],
 "metadata": {
  "kernelspec": {
   "display_name": "Python 3 (ipykernel)",
   "language": "python",
   "name": "python3"
  },
  "language_info": {
   "codemirror_mode": {
    "name": "ipython",
    "version": 3
   },
   "file_extension": ".py",
   "mimetype": "text/x-python",
   "name": "python",
   "nbconvert_exporter": "python",
   "pygments_lexer": "ipython3",
   "version": "3.10.8"
  }
 },
 "nbformat": 4,
 "nbformat_minor": 5
}
